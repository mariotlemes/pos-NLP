{
  "nbformat": 4,
  "nbformat_minor": 0,
  "metadata": {
    "colab": {
      "provenance": [],
      "collapsed_sections": [
        "fuQ8hqmFXWYw",
        "8sSvUn6SYhV0",
        "uKJFq9VmZSRT"
      ],
      "authorship_tag": "ABX9TyNoUS5MH5DrogggrmGVCXb3",
      "include_colab_link": true
    },
    "kernelspec": {
      "name": "python3",
      "display_name": "Python 3"
    },
    "language_info": {
      "name": "python"
    }
  },
  "cells": [
    {
      "cell_type": "markdown",
      "metadata": {
        "id": "view-in-github",
        "colab_type": "text"
      },
      "source": [
        "<a href=\"https://colab.research.google.com/github/mariotlemes/pos-NLP/blob/main/python_para_processamento_de_dados.ipynb\" target=\"_parent\"><img src=\"https://colab.research.google.com/assets/colab-badge.svg\" alt=\"Open In Colab\"/></a>"
      ]
    },
    {
      "cell_type": "markdown",
      "source": [
        "Código 1 - Verificando a instalação do NumPy"
      ],
      "metadata": {
        "id": "fuQ8hqmFXWYw"
      }
    },
    {
      "cell_type": "code",
      "source": [
        "!pip install numpy"
      ],
      "metadata": {
        "colab": {
          "base_uri": "https://localhost:8080/"
        },
        "id": "QQZDCjzYYMzK",
        "outputId": "cb4402b6-fb13-4f7c-d782-97f4701cdf1d"
      },
      "execution_count": null,
      "outputs": [
        {
          "output_type": "stream",
          "name": "stdout",
          "text": [
            "Requirement already satisfied: numpy in /usr/local/lib/python3.12/dist-packages (2.0.2)\n"
          ]
        }
      ]
    },
    {
      "cell_type": "code",
      "execution_count": null,
      "metadata": {
        "colab": {
          "base_uri": "https://localhost:8080/"
        },
        "id": "-LqUjy-SXKLz",
        "outputId": "3c7a2a21-e8ef-42f6-a121-feb990ac0a2f"
      },
      "outputs": [
        {
          "output_type": "stream",
          "name": "stdout",
          "text": [
            "A versão do NumPy é 2.0.2\n"
          ]
        }
      ],
      "source": [
        "import numpy as np\n",
        "print(\"A versão do NumPy é\", np.__version__)"
      ]
    },
    {
      "cell_type": "markdown",
      "source": [
        "Código 2 - Exemplos de utilização da biblioteca NumPy com arrays unidimensionais\n"
      ],
      "metadata": {
        "id": "8sSvUn6SYhV0"
      }
    },
    {
      "cell_type": "code",
      "source": [
        "# array de uma dimensão\n",
        "a = np.array([1, 2, 3, 4, 5])\n",
        "print(\"Array a =\", a)\n",
        "\n",
        "# operação matemática simples\n",
        "b = a * 2\n",
        "print(\"Array b =\", b)"
      ],
      "metadata": {
        "colab": {
          "base_uri": "https://localhost:8080/"
        },
        "id": "tPLnPQwbYuyk",
        "outputId": "0a64f5e6-f32e-4814-b158-9261bf9670e1"
      },
      "execution_count": null,
      "outputs": [
        {
          "output_type": "stream",
          "name": "stdout",
          "text": [
            "Array a = [1 2 3 4 5]\n",
            "Array b = [ 2  4  6  8 10]\n"
          ]
        }
      ]
    },
    {
      "cell_type": "markdown",
      "source": [
        "Código 3 - Exemplos de utilização da biblioteca NumPy com arrays multidimensionais e funções"
      ],
      "metadata": {
        "id": "uKJFq9VmZSRT"
      }
    },
    {
      "cell_type": "code",
      "source": [
        "c = np.array([[1,2], [3,4]])\n",
        "print(\"Matriz:\\n\", c)\n",
        "\n",
        "print(\"\\n\")\n",
        "\n",
        "# soma simples em cada número da matriz\n",
        "d = c + 3\n",
        "print(\"Matriz d:\\n\", d)\n",
        "\n",
        "print(\"\\n\")\n",
        "\n",
        "# calcular a media dos elementos do array a\n",
        "media  = np.mean(a)\n",
        "print(\"A média dos elementos do array a é:\", media)"
      ],
      "metadata": {
        "colab": {
          "base_uri": "https://localhost:8080/"
        },
        "id": "F1u-1yyqZWTN",
        "outputId": "304f3334-4f4a-4eb2-bc50-713dce4b2c5e"
      },
      "execution_count": null,
      "outputs": [
        {
          "output_type": "stream",
          "name": "stdout",
          "text": [
            "Matriz:\n",
            " [[1 2]\n",
            " [3 4]]\n",
            "\n",
            "\n",
            "Matriz d:\n",
            " [[4 5]\n",
            " [6 7]]\n",
            "\n",
            "\n",
            "A média dos elementos do array a é: 3.0\n"
          ]
        }
      ]
    },
    {
      "cell_type": "markdown",
      "source": [
        "Código 4 - Exemplo de criação de um array a partir de uma lista"
      ],
      "metadata": {
        "id": "-RJkJg2TaWwL"
      }
    },
    {
      "cell_type": "code",
      "source": [
        "import numpy as np\n",
        "\n",
        "a = np.array([1, 2, 3, 4, 5])\n",
        "print(\"Array a:\", a)"
      ],
      "metadata": {
        "colab": {
          "base_uri": "https://localhost:8080/"
        },
        "id": "3IpBhnvnaZzx",
        "outputId": "0ab553b6-ab8e-4156-801e-372e154ba646"
      },
      "execution_count": null,
      "outputs": [
        {
          "output_type": "stream",
          "name": "stdout",
          "text": [
            "Array a: [1 2 3 4 5]\n"
          ]
        }
      ]
    },
    {
      "cell_type": "markdown",
      "source": [
        "Código 5 - Criando array de zeros com np.zeros"
      ],
      "metadata": {
        "id": "Jr6a2BTiazpA"
      }
    },
    {
      "cell_type": "code",
      "source": [
        "zeros_array = np.zeros((3,3))\n",
        "print(\"Matriz de zeros 3x3:\\n\", zeros_array)"
      ],
      "metadata": {
        "colab": {
          "base_uri": "https://localhost:8080/"
        },
        "id": "R1gdo_qAa3Xn",
        "outputId": "740dd5f6-4d15-4cc0-e7a7-b4abce0e929e"
      },
      "execution_count": null,
      "outputs": [
        {
          "output_type": "stream",
          "name": "stdout",
          "text": [
            "Matriz de zeros 3x3:\n",
            " [[0. 0. 0.]\n",
            " [0. 0. 0.]\n",
            " [0. 0. 0.]]\n"
          ]
        }
      ]
    },
    {
      "cell_type": "markdown",
      "source": [
        "Código 6 - Exemplo de utilização da função np.arange\n",
        "\n",
        "np.arrange(start, stop, step): usada para criar arrays com valores sequenciais"
      ],
      "metadata": {
        "id": "-dnPM5ysbRuZ"
      }
    },
    {
      "cell_type": "code",
      "source": [
        "import numpy as np\n",
        "\n",
        "range_array = np.arange(0, 10, 2)\n",
        "print(\"O array é:\", range_array)"
      ],
      "metadata": {
        "colab": {
          "base_uri": "https://localhost:8080/"
        },
        "id": "bsdVx_-3bep1",
        "outputId": "0199c885-0433-4b3e-e162-a8628cd2dca3"
      },
      "execution_count": null,
      "outputs": [
        {
          "output_type": "stream",
          "name": "stdout",
          "text": [
            "O array é: [0 2 4 6 8]\n"
          ]
        }
      ]
    },
    {
      "cell_type": "markdown",
      "source": [
        "Código 7 - Exemplo de utilização da função np.linspace\n",
        "\n",
        "np.linspace(start, stop, num): cria arrays com valores espaçados uniformemente em um intervalo"
      ],
      "metadata": {
        "id": "mHg4VJSZb4SC"
      }
    },
    {
      "cell_type": "code",
      "source": [
        "import numpy as np\n",
        "\n",
        "linspace_array = np.linspace(0, 1, 5)\n",
        "print(\"O array é:\", linspace_array)\n"
      ],
      "metadata": {
        "colab": {
          "base_uri": "https://localhost:8080/"
        },
        "id": "Ec9rCXmfcFyH",
        "outputId": "dcd34a9a-3c2e-4f95-dad9-489e6a6b58dc"
      },
      "execution_count": null,
      "outputs": [
        {
          "output_type": "stream",
          "name": "stdout",
          "text": [
            "O array é: [0.   0.25 0.5  0.75 1.  ]\n"
          ]
        }
      ]
    },
    {
      "cell_type": "markdown",
      "source": [
        "Código 8 - Atributos shape e ndim de um array NumPy"
      ],
      "metadata": {
        "id": "t2m0nli2csn_"
      }
    },
    {
      "cell_type": "code",
      "source": [
        "import numpy as np\n",
        "\n",
        "linspace_array = np.linspace(0, 1, 5)\n",
        "print(\"Array:\", linspace_array)\n",
        "print(\"Forma do array:\", linspace_array.shape)\n",
        "print(\"Número de dimensões:\", linspace_array.ndim)\n"
      ],
      "metadata": {
        "colab": {
          "base_uri": "https://localhost:8080/"
        },
        "id": "kzlfkmXdc049",
        "outputId": "a2276006-ec64-44cd-9dfc-3a85531c3d33"
      },
      "execution_count": null,
      "outputs": [
        {
          "output_type": "stream",
          "name": "stdout",
          "text": [
            "Array: [0.   0.25 0.5  0.75 1.  ]\n",
            "Forma do array: (5,)\n",
            "Número de dimensões: 1\n"
          ]
        }
      ]
    },
    {
      "cell_type": "markdown",
      "source": [
        "Código 9 - Exemplo de criação de array multidimensional (matriz 2x3) a partir de listas"
      ],
      "metadata": {
        "id": "kY-xcO-Pdi3J"
      }
    },
    {
      "cell_type": "code",
      "source": [
        "import numpy as np\n",
        "\n",
        "matriz = np.array([[1, 2, 3], [4, 5, 6]])\n",
        "print(\"Matriz 2x3:\\n\", matriz)"
      ],
      "metadata": {
        "colab": {
          "base_uri": "https://localhost:8080/"
        },
        "id": "2yNkpNbFdl59",
        "outputId": "bcf1ae40-ab0a-4e7b-a0b9-105ba5781f83"
      },
      "execution_count": null,
      "outputs": [
        {
          "output_type": "stream",
          "name": "stdout",
          "text": [
            "Matriz 2x3:\n",
            " [[1 2 3]\n",
            " [4 5 6]]\n"
          ]
        }
      ]
    },
    {
      "cell_type": "markdown",
      "source": [
        "Código 10 - Exemplo de utilização do atributo dtype de um array do NumPy"
      ],
      "metadata": {
        "id": "6qbrwlm6d7OJ"
      }
    },
    {
      "cell_type": "code",
      "source": [
        "import numpy as np\n",
        "\n",
        "matriz = np.array([[1, 2, 3], [4, 5, 6]])\n",
        "print(\"O tipo de dados da matriz é:\", matriz.dtype)"
      ],
      "metadata": {
        "colab": {
          "base_uri": "https://localhost:8080/"
        },
        "id": "LVKbc6Afd-zl",
        "outputId": "2663d594-8ec8-4347-a0d7-e17acf57aae4"
      },
      "execution_count": null,
      "outputs": [
        {
          "output_type": "stream",
          "name": "stdout",
          "text": [
            "O tipo de dados da matriz é: int64\n"
          ]
        }
      ]
    },
    {
      "cell_type": "markdown",
      "source": [
        "Código 11 - Alterando o valor da posição 0 de um array previamente definido"
      ],
      "metadata": {
        "id": "GwqSayLIeQZB"
      }
    },
    {
      "cell_type": "code",
      "source": [
        "import numpy as np\n",
        "\n",
        "array_a = ([1, 2, 3, 4, 5])\n",
        "array_a[0] = 10\n",
        "print(\"O novo array a é:\", array_a)"
      ],
      "metadata": {
        "colab": {
          "base_uri": "https://localhost:8080/"
        },
        "id": "dbhMfYeXeVRM",
        "outputId": "c5f0c808-1d1c-4e75-aeb9-1205ed27e85b"
      },
      "execution_count": null,
      "outputs": [
        {
          "output_type": "stream",
          "name": "stdout",
          "text": [
            "O novo array a é: [10, 2, 3, 4, 5]\n"
          ]
        }
      ]
    },
    {
      "cell_type": "markdown",
      "source": [
        "Código 12 - Exemplos com listas (mutável), tuplas (imutável) e sets (não ordenado e sem duplicatas)"
      ],
      "metadata": {
        "id": "jm2qW24Aeood"
      }
    },
    {
      "cell_type": "code",
      "source": [
        "import numpy as np\n",
        "\n",
        "lista = [1, \"dois\", 3.0]\n",
        "\n",
        "print(\"A lista mista é:\", lista)\n",
        "\n",
        "# adicionando um novo membro\n",
        "lista.append(4)\n",
        "print(\"A lista com append é:\", lista)\n",
        "\n",
        "tupla = (1, 2, 3)\n",
        "print(\"O valor da tupla é:\", tupla)\n",
        "\n",
        "# não é possível\n",
        "# tupla[0] = 2\n",
        "\n",
        "conjunto  = {1, 2, 3, 3}\n",
        "print(\"O valor do conjunto (não mostra valores duplicados) é:\", conjunto)"
      ],
      "metadata": {
        "colab": {
          "base_uri": "https://localhost:8080/"
        },
        "id": "KF98907keuGW",
        "outputId": "a3ab2677-ceaa-443a-cb32-1a3c5a74c877"
      },
      "execution_count": null,
      "outputs": [
        {
          "output_type": "stream",
          "name": "stdout",
          "text": [
            "A lista mista é: [1, 'dois', 3.0]\n",
            "A lista com append é: [1, 'dois', 3.0, 4]\n",
            "O valor da tupla é: (1, 2, 3)\n",
            "O valor do conjunto (não mostra valores duplicados) é: {1, 2, 3}\n"
          ]
        }
      ]
    },
    {
      "cell_type": "markdown",
      "source": [
        "Código 13 - Comparando o tempo de execução entre listas e arrays do NumPy"
      ],
      "metadata": {
        "id": "3ulRKNyLgvhH"
      }
    },
    {
      "cell_type": "code",
      "source": [
        "import numpy as np\n",
        "import time\n",
        "\n",
        "lista = list(range(1000000))\n",
        "inicio = time.time()\n",
        "lista = [valor + 1 for valor in lista]\n",
        "fim = time.time()\n",
        "print(\"Tempo de processamento com lista é:\", fim - inicio)\n",
        "\n",
        "array = np.arange(1000000)\n",
        "inicio2 = time.time()\n",
        "array += 1\n",
        "fim2 = time.time()\n",
        "print(\"Tempo de processamento com array é:\", fim2 - inicio2)"
      ],
      "metadata": {
        "colab": {
          "base_uri": "https://localhost:8080/"
        },
        "id": "ZpBOWC6wgyy1",
        "outputId": "51fe1737-b233-4641-f26a-8915f5007dab"
      },
      "execution_count": null,
      "outputs": [
        {
          "output_type": "stream",
          "name": "stdout",
          "text": [
            "Tempo de processamento com lista é: 0.05792045593261719\n",
            "Tempo de processamento com array é: 0.0010159015655517578\n"
          ]
        }
      ]
    },
    {
      "cell_type": "markdown",
      "source": [
        "Código 14 - Exemplo de operações aritméticas com arrays"
      ],
      "metadata": {
        "id": "OWb8EV2AiMMM"
      }
    },
    {
      "cell_type": "code",
      "source": [
        "import numpy as np\n",
        "\n",
        "a = np.array([1, 2, 3])\n",
        "b = np.array([4, 5 , 6])\n",
        "\n",
        "print(\"O valor do array a + array b é: \", a + b)\n",
        "print(\"O valor do array a - b é: \", a - b)\n",
        "print(\"O valor de multiplicação do array a por b é:\",  a * b)\n",
        "print(\"A divisão do array a por b é:\", a / b)\n"
      ],
      "metadata": {
        "colab": {
          "base_uri": "https://localhost:8080/"
        },
        "id": "YHiVpxIWg8w7",
        "outputId": "4088c0ae-ffb8-416e-c1cd-d6a9fb19000d"
      },
      "execution_count": null,
      "outputs": [
        {
          "output_type": "stream",
          "name": "stdout",
          "text": [
            "O valor do array a + array b é:  [5 7 9]\n",
            "O valor do array a - b é:  [-3 -3 -3]\n",
            "O valor de multiplicação do array a por b é: [ 4 10 18]\n",
            "A divisão do array a por b é: [0.25 0.4  0.5 ]\n"
          ]
        }
      ]
    }
  ]
}