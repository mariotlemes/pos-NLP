{
 "nbformat": 4,
 "nbformat_minor": 0,
 "metadata": {
  "colab": {
   "provenance": [],
   "collapsed_sections": [
    "fuQ8hqmFXWYw",
    "8sSvUn6SYhV0",
    "uKJFq9VmZSRT"
   ],
   "authorship_tag": "ABX9TyNpJabh/cvyqQzRbuaz3sIN",
   "include_colab_link": true
  },
  "kernelspec": {
   "name": "python3",
   "display_name": "Python 3 (ipykernel)",
   "language": "python"
  },
  "language_info": {
   "name": "python"
  }
 },
 "cells": [
  {
   "cell_type": "markdown",
   "metadata": {
    "id": "view-in-github",
    "colab_type": "text"
   },
   "source": [
    "<a href=\"https://colab.research.google.com/github/mariotlemes/pos-NLP/blob/main/python_para_processamento_de_dados.ipynb\" target=\"_parent\"><img src=\"https://colab.research.google.com/assets/colab-badge.svg\" alt=\"Open In Colab\"/></a>"
   ]
  },
  {
   "cell_type": "markdown",
   "source": [
    "Código 1 - Verificando a instalação do NumPy"
   ],
   "metadata": {
    "id": "fuQ8hqmFXWYw"
   }
  },
  {
   "cell_type": "code",
   "source": [
    "#Google Colab\n",
    "!pip install numpy"
   ],
   "metadata": {
    "colab": {
     "base_uri": "https://localhost:8080/"
    },
    "id": "QQZDCjzYYMzK",
    "outputId": "cb4402b6-fb13-4f7c-d782-97f4701cdf1d"
   },
   "outputs": [],
   "execution_count": null
  },
  {
   "cell_type": "code",
   "metadata": {
    "colab": {
     "base_uri": "https://localhost:8080/"
    },
    "id": "-LqUjy-SXKLz",
    "outputId": "3c7a2a21-e8ef-42f6-a121-feb990ac0a2f",
    "ExecuteTime": {
     "end_time": "2025-08-22T11:12:58.179282Z",
     "start_time": "2025-08-22T11:12:58.177226Z"
    }
   },
   "source": [
    "import numpy as np\n",
    "print(\"A versão do NumPy é\", np.__version__)"
   ],
   "outputs": [
    {
     "name": "stdout",
     "output_type": "stream",
     "text": [
      "A versão do NumPy é 2.3.2\n"
     ]
    }
   ],
   "execution_count": 6
  },
  {
   "cell_type": "markdown",
   "source": [
    "Código 2 - Exemplos de utilização da biblioteca NumPy com arrays unidimensionais\n"
   ],
   "metadata": {
    "id": "8sSvUn6SYhV0"
   }
  },
  {
   "cell_type": "code",
   "source": [
    "# array de uma dimensão\n",
    "a = np.array([1, 2, 3, 4, 5])\n",
    "print(\"Array a =\", a)\n",
    "\n",
    "# operação matemática simples\n",
    "b = a * 2\n",
    "print(\"Array b =\", b)"
   ],
   "metadata": {
    "colab": {
     "base_uri": "https://localhost:8080/"
    },
    "id": "tPLnPQwbYuyk",
    "outputId": "0a64f5e6-f32e-4814-b158-9261bf9670e1",
    "ExecuteTime": {
     "end_time": "2025-08-22T11:02:02.377739Z",
     "start_time": "2025-08-22T11:02:02.374514Z"
    }
   },
   "outputs": [
    {
     "name": "stdout",
     "output_type": "stream",
     "text": [
      "Array a = [1 2 3 4 5]\n",
      "Array b = [ 2  4  6  8 10]\n"
     ]
    }
   ],
   "execution_count": 3
  },
  {
   "cell_type": "markdown",
   "source": [
    "Código 3 - Exemplos de utilização da biblioteca NumPy com arrays multidimensionais e funções"
   ],
   "metadata": {
    "id": "uKJFq9VmZSRT"
   }
  },
  {
   "cell_type": "code",
   "source": [
    "c = np.array([[1,2], [3,4]])\n",
    "print(\"Matriz:\\n\", c)\n",
    "\n",
    "print(\"\\n\")\n",
    "\n",
    "# soma simples em cada número da matriz\n",
    "d = c + 3\n",
    "print(\"Matriz d:\\n\", d)\n",
    "\n",
    "print(\"\\n\")\n",
    "\n",
    "# calcular a media dos elementos do array a\n",
    "media  = np.mean(a)\n",
    "print(\"A média dos elementos do array a é:\", media)"
   ],
   "metadata": {
    "colab": {
     "base_uri": "https://localhost:8080/"
    },
    "id": "F1u-1yyqZWTN",
    "outputId": "304f3334-4f4a-4eb2-bc50-713dce4b2c5e"
   },
   "execution_count": null,
   "outputs": [
    {
     "output_type": "stream",
     "name": "stdout",
     "text": [
      "Matriz:\n",
      " [[1 2]\n",
      " [3 4]]\n",
      "\n",
      "\n",
      "Matriz d:\n",
      " [[4 5]\n",
      " [6 7]]\n",
      "\n",
      "\n",
      "A média dos elementos do array a é: 3.0\n"
     ]
    }
   ]
  },
  {
   "cell_type": "markdown",
   "source": [
    "Código 4 - Exemplo de criação de um array a partir de uma lista"
   ],
   "metadata": {
    "id": "-RJkJg2TaWwL"
   }
  },
  {
   "cell_type": "code",
   "source": [
    "import numpy as np\n",
    "\n",
    "a = np.array([1, 2, 3, 4, 5])\n",
    "print(\"Array a:\", a)"
   ],
   "metadata": {
    "colab": {
     "base_uri": "https://localhost:8080/"
    },
    "id": "3IpBhnvnaZzx",
    "outputId": "0ab553b6-ab8e-4156-801e-372e154ba646",
    "ExecuteTime": {
     "end_time": "2025-08-22T11:02:41.858681Z",
     "start_time": "2025-08-22T11:02:41.856362Z"
    }
   },
   "outputs": [
    {
     "name": "stdout",
     "output_type": "stream",
     "text": [
      "Array a: [1 2 3 4 5]\n"
     ]
    }
   ],
   "execution_count": 4
  },
  {
   "cell_type": "markdown",
   "source": [
    "Código 5 - Criando array de zeros com np.zeros"
   ],
   "metadata": {
    "id": "Jr6a2BTiazpA"
   }
  },
  {
   "cell_type": "code",
   "source": [
    "zeros_array = np.zeros((3,3))\n",
    "print(\"Matriz de zeros 3x3:\\n\", zeros_array)"
   ],
   "metadata": {
    "colab": {
     "base_uri": "https://localhost:8080/"
    },
    "id": "R1gdo_qAa3Xn",
    "outputId": "740dd5f6-4d15-4cc0-e7a7-b4abce0e929e"
   },
   "execution_count": null,
   "outputs": [
    {
     "output_type": "stream",
     "name": "stdout",
     "text": [
      "Matriz de zeros 3x3:\n",
      " [[0. 0. 0.]\n",
      " [0. 0. 0.]\n",
      " [0. 0. 0.]]\n"
     ]
    }
   ]
  },
  {
   "metadata": {},
   "cell_type": "markdown",
   "source": ""
  },
  {
   "cell_type": "markdown",
   "source": [
    "Código 6 - Exemplo de utilização da função np.arange\n",
    "\n",
    "Função np.arrange(start, stop, step): usada para criar arrays com valores sequenciais"
   ],
   "metadata": {
    "id": "-dnPM5ysbRuZ"
   }
  },
  {
   "cell_type": "code",
   "source": [
    "import numpy as np\n",
    "\n",
    "range_array = np.arange(0, 10, 2)\n",
    "print(\"O array é:\", range_array)"
   ],
   "metadata": {
    "colab": {
     "base_uri": "https://localhost:8080/"
    },
    "id": "bsdVx_-3bep1",
    "outputId": "0199c885-0433-4b3e-e162-a8628cd2dca3",
    "ExecuteTime": {
     "end_time": "2025-08-22T11:02:46.480486Z",
     "start_time": "2025-08-22T11:02:46.478284Z"
    }
   },
   "outputs": [
    {
     "name": "stdout",
     "output_type": "stream",
     "text": [
      "O array é: [0 2 4 6 8]\n"
     ]
    }
   ],
   "execution_count": 5
  },
  {
   "cell_type": "markdown",
   "source": [
    "Código 7 - Exemplo de utilização da função np.linspace\n",
    "\n",
    "Função np.linspace(start, stop, num): cria arrays com valores espaçados uniformemente em um intervalo"
   ],
   "metadata": {
    "id": "mHg4VJSZb4SC"
   }
  },
  {
   "cell_type": "code",
   "source": [
    "import numpy as np\n",
    "\n",
    "linspace_array = np.linspace(0, 1, 5)\n",
    "print(\"O array é:\", linspace_array)\n"
   ],
   "metadata": {
    "colab": {
     "base_uri": "https://localhost:8080/"
    },
    "id": "Ec9rCXmfcFyH",
    "outputId": "dcd34a9a-3c2e-4f95-dad9-489e6a6b58dc"
   },
   "execution_count": null,
   "outputs": [
    {
     "output_type": "stream",
     "name": "stdout",
     "text": [
      "O array é: [0.   0.25 0.5  0.75 1.  ]\n"
     ]
    }
   ]
  },
  {
   "cell_type": "markdown",
   "source": [
    "Código 8 - Atributos shape e ndim de um array NumPy"
   ],
   "metadata": {
    "id": "t2m0nli2csn_"
   }
  },
  {
   "cell_type": "code",
   "source": [
    "import numpy as np\n",
    "\n",
    "linspace_array = np.linspace(0, 1, 5)\n",
    "print(\"Array:\", linspace_array)\n",
    "print(\"Forma do array:\", linspace_array.shape)\n",
    "print(\"Número de dimensões:\", linspace_array.ndim)\n"
   ],
   "metadata": {
    "colab": {
     "base_uri": "https://localhost:8080/"
    },
    "id": "kzlfkmXdc049",
    "outputId": "a2276006-ec64-44cd-9dfc-3a85531c3d33"
   },
   "execution_count": null,
   "outputs": [
    {
     "output_type": "stream",
     "name": "stdout",
     "text": [
      "Array: [0.   0.25 0.5  0.75 1.  ]\n",
      "Forma do array: (5,)\n",
      "Número de dimensões: 1\n"
     ]
    }
   ]
  },
  {
   "cell_type": "markdown",
   "source": [
    "Código 9 - Exemplo de criação de array multidimensional (matriz 2x3) a partir de listas"
   ],
   "metadata": {
    "id": "kY-xcO-Pdi3J"
   }
  },
  {
   "cell_type": "code",
   "source": [
    "import numpy as np\n",
    "\n",
    "matriz = np.array([[1, 2, 3], [4, 5, 6]])\n",
    "print(\"Matriz 2x3:\\n\", matriz)"
   ],
   "metadata": {
    "colab": {
     "base_uri": "https://localhost:8080/"
    },
    "id": "2yNkpNbFdl59",
    "outputId": "bcf1ae40-ab0a-4e7b-a0b9-105ba5781f83"
   },
   "execution_count": null,
   "outputs": [
    {
     "output_type": "stream",
     "name": "stdout",
     "text": [
      "Matriz 2x3:\n",
      " [[1 2 3]\n",
      " [4 5 6]]\n"
     ]
    }
   ]
  },
  {
   "cell_type": "markdown",
   "source": [
    "Código 10 - Exemplo de utilização do atributo dtype de um array do NumPy"
   ],
   "metadata": {
    "id": "6qbrwlm6d7OJ"
   }
  },
  {
   "cell_type": "code",
   "source": [
    "import numpy as np\n",
    "\n",
    "matriz = np.array([[1, 2, 3], [4, 5, 6]])\n",
    "print(\"O tipo de dados da matriz é:\", matriz.dtype)"
   ],
   "metadata": {
    "colab": {
     "base_uri": "https://localhost:8080/"
    },
    "id": "LVKbc6Afd-zl",
    "outputId": "2663d594-8ec8-4347-a0d7-e17acf57aae4",
    "ExecuteTime": {
     "end_time": "2025-08-22T11:02:02.083450Z",
     "start_time": "2025-08-22T11:02:02.026456Z"
    }
   },
   "outputs": [
    {
     "name": "stdout",
     "output_type": "stream",
     "text": [
      "O tipo de dados da matriz é: int64\n"
     ]
    }
   ],
   "execution_count": 1
  },
  {
   "cell_type": "markdown",
   "source": [
    "Código 11 - Alterando o valor da posição 0 de um array previamente definido"
   ],
   "metadata": {
    "id": "GwqSayLIeQZB"
   }
  },
  {
   "cell_type": "code",
   "source": [
    "import numpy as np\n",
    "\n",
    "array_a = ([1, 2, 3, 4, 5])\n",
    "array_a[0] = 10\n",
    "print(\"O novo array a é:\", array_a)"
   ],
   "metadata": {
    "colab": {
     "base_uri": "https://localhost:8080/"
    },
    "id": "dbhMfYeXeVRM",
    "outputId": "c5f0c808-1d1c-4e75-aeb9-1205ed27e85b"
   },
   "execution_count": null,
   "outputs": [
    {
     "output_type": "stream",
     "name": "stdout",
     "text": [
      "O novo array a é: [10, 2, 3, 4, 5]\n"
     ]
    }
   ]
  },
  {
   "cell_type": "markdown",
   "source": [
    "Código 12 - Exemplos com listas (mutável), tuplas (imutável) e sets (não ordenado e sem duplicatas)"
   ],
   "metadata": {
    "id": "jm2qW24Aeood"
   }
  },
  {
   "cell_type": "code",
   "source": [
    "import numpy as np\n",
    "\n",
    "lista = [1, \"dois\", 3.0]\n",
    "\n",
    "print(\"A lista mista é:\", lista)\n",
    "\n",
    "# adicionando um novo membro\n",
    "lista.append(4)\n",
    "print(\"A lista com append é:\", lista)\n",
    "\n",
    "tupla = (1, 2, 3)\n",
    "print(\"O valor da tupla é:\", tupla)\n",
    "\n",
    "# não é possível\n",
    "# tupla[0] = 2\n",
    "\n",
    "conjunto  = {1, 2, 3, 3}\n",
    "print(\"O valor do conjunto (não mostra valores duplicados) é:\", conjunto)"
   ],
   "metadata": {
    "colab": {
     "base_uri": "https://localhost:8080/"
    },
    "id": "KF98907keuGW",
    "outputId": "a3ab2677-ceaa-443a-cb32-1a3c5a74c877"
   },
   "execution_count": null,
   "outputs": [
    {
     "output_type": "stream",
     "name": "stdout",
     "text": [
      "A lista mista é: [1, 'dois', 3.0]\n",
      "A lista com append é: [1, 'dois', 3.0, 4]\n",
      "O valor da tupla é: (1, 2, 3)\n",
      "O valor do conjunto (não mostra valores duplicados) é: {1, 2, 3}\n"
     ]
    }
   ]
  },
  {
   "cell_type": "markdown",
   "source": [
    "Código 13 - Comparando o tempo de execução entre listas e arrays do NumPy"
   ],
   "metadata": {
    "id": "3ulRKNyLgvhH"
   }
  },
  {
   "cell_type": "code",
   "source": [
    "import numpy as np\n",
    "import time\n",
    "\n",
    "lista = list(range(1000000))\n",
    "inicio = time.time()\n",
    "lista = [valor + 1 for valor in lista]\n",
    "fim = time.time()\n",
    "print(\"Tempo de processamento com lista é:\", fim - inicio)\n",
    "\n",
    "array = np.arange(1000000)\n",
    "inicio2 = time.time()\n",
    "array += 1\n",
    "fim2 = time.time()\n",
    "print(\"Tempo de processamento com array é:\", fim2 - inicio2)"
   ],
   "metadata": {
    "colab": {
     "base_uri": "https://localhost:8080/"
    },
    "id": "ZpBOWC6wgyy1",
    "outputId": "51fe1737-b233-4641-f26a-8915f5007dab",
    "ExecuteTime": {
     "end_time": "2025-08-22T11:05:25.238898Z",
     "start_time": "2025-08-22T11:05:25.193945Z"
    }
   },
   "outputs": [
    {
     "name": "stdout",
     "output_type": "stream",
     "text": [
      "Tempo de processamento com lista é: 0.03231644630432129\n",
      "Tempo de processamento com array é: 0.0005271434783935547\n"
     ]
    }
   ],
   "execution_count": 3
  },
  {
   "cell_type": "markdown",
   "source": [
    "Código 14 - Exemplo de operações aritméticas com arrays"
   ],
   "metadata": {
    "id": "OWb8EV2AiMMM"
   }
  },
  {
   "cell_type": "code",
   "source": [
    "import numpy as np\n",
    "\n",
    "a = np.array([1, 2, 3])\n",
    "b = np.array([4, 5 , 6])\n",
    "\n",
    "print(\"O valor do array a + array b é: \", a + b)\n",
    "print(\"O valor do array a - b é: \", a - b)\n",
    "print(\"O valor de multiplicação do array a por b é:\",  a * b)\n",
    "print(\"A divisão do array a por b é:\", a / b)"
   ],
   "metadata": {
    "colab": {
     "base_uri": "https://localhost:8080/"
    },
    "id": "YHiVpxIWg8w7",
    "outputId": "4088c0ae-ffb8-416e-c1cd-d6a9fb19000d"
   },
   "execution_count": null,
   "outputs": [
    {
     "output_type": "stream",
     "name": "stdout",
     "text": [
      "O valor do array a + array b é:  [5 7 9]\n",
      "O valor do array a - b é:  [-3 -3 -3]\n",
      "O valor de multiplicação do array a por b é: [ 4 10 18]\n",
      "A divisão do array a por b é: [0.25 0.4  0.5 ]\n"
     ]
    }
   ]
  },
  {
   "metadata": {},
   "cell_type": "markdown",
   "source": "Código 15 - Exemplo de broadcasting (operação com arrays de diferentes tamanhos) entre arrays"
  },
  {
   "metadata": {
    "ExecuteTime": {
     "end_time": "2025-08-22T12:04:23.314167Z",
     "start_time": "2025-08-22T12:04:23.311419Z"
    }
   },
   "cell_type": "code",
   "source": [
    "import numpy as np\n",
    "\n",
    "h = np.array([1, 2, 3])\n",
    "i = np.array([[0], [1], [2]])\n",
    "# print(h)\n",
    "# print(i)\n",
    "\n",
    "j = h + 1\n",
    "\n",
    "print(j)\n",
    "\n"
   ],
   "outputs": [
    {
     "name": "stdout",
     "output_type": "stream",
     "text": [
      "[2 3 4]\n"
     ]
    }
   ],
   "execution_count": 7
  },
  {
   "metadata": {},
   "cell_type": "markdown",
   "source": "Código 16 - Exemplos de indexação e slicing"
  },
  {
   "metadata": {
    "ExecuteTime": {
     "end_time": "2025-08-22T12:10:59.054602Z",
     "start_time": "2025-08-22T12:10:59.052331Z"
    }
   },
   "cell_type": "code",
   "source": [
    "a = np.array([1, 2, 3])\n",
    "\n",
    "k = a[1]\n",
    "print(\"O elemento do índice 1 é:\", k)\n",
    "\n",
    "l = a[0:2]\n",
    "print(\"Os dois primeiros elementos do array a é:\", l)"
   ],
   "outputs": [
    {
     "name": "stdout",
     "output_type": "stream",
     "text": [
      "O elemento do índice 1 é: 2\n",
      "Os dois primeiros elementos do array a é: [1 2]\n"
     ]
    }
   ],
   "execution_count": 17
  },
  {
   "metadata": {},
   "cell_type": "markdown",
   "source": "Código 17 - Exemplo de zeroing com slicing"
  },
  {
   "metadata": {
    "ExecuteTime": {
     "end_time": "2025-08-22T12:14:24.490250Z",
     "start_time": "2025-08-22T12:14:24.488Z"
    }
   },
   "cell_type": "code",
   "source": [
    "m = np.array([1, 2, 3, 4, 5])\n",
    "print(\"O array m é:\", m)\n",
    "\n",
    "#zerando do elemento 1 ao 3 (um entra e 4 é o limite superior). Então o slice vai funcionar da posição 1 a 3.\n",
    "m[1:4] = 0\n",
    "\n",
    "print(\"Saída depois de zerar é:\", m)"
   ],
   "outputs": [
    {
     "name": "stdout",
     "output_type": "stream",
     "text": [
      "O array m é: [1 2 3 4 5]\n",
      "Saída depois de zerar é: [1 0 0 0 5]\n"
     ]
    }
   ],
   "execution_count": 27
  },
  {
   "metadata": {},
   "cell_type": "markdown",
   "source": "Código 18 - Slicing com step"
  },
  {
   "metadata": {
    "ExecuteTime": {
     "end_time": "2025-08-22T12:25:17.851126Z",
     "start_time": "2025-08-22T12:25:17.848510Z"
    }
   },
   "cell_type": "code",
   "source": [
    "import numpy as np\n",
    "\n",
    "a = np.array([0, 1, 2, 3, 4, 5, 6, 7, 8, 9])\n",
    "print(\"O array a é:\", a)\n",
    "\n",
    "step_slice = a[1 : 8 : 2]\n",
    "print(\"A lógica array[inicio:fim:passo] pode ser usada para partição de um array. Olha o resultado:\", step_slice)\n",
    "\n",
    "slice_revertido = step_slice[::-1]\n",
    "\n",
    "print(\"Para inverter um slice, basta usar a sintaxe array[::-1]. Veja o array step_slice invertido:\", slice_revertido)\n"
   ],
   "outputs": [
    {
     "name": "stdout",
     "output_type": "stream",
     "text": [
      "O array a é: [0 1 2 3 4 5 6 7 8 9]\n",
      "A lógica array[inicio:fim:passo] pode ser usada para partição de um array. Olha o resultado: [1 3 5 7]\n",
      "Para inverter um slice, basta usar a sintaxe array[::-1]. Veja o array step_slice invertido: [7 5 3 1]\n"
     ]
    }
   ],
   "execution_count": 61
  },
  {
   "metadata": {},
   "cell_type": "markdown",
   "source": "Código 19 - Exemplo de indexação com lista de índices"
  },
  {
   "metadata": {
    "ExecuteTime": {
     "end_time": "2025-08-22T13:35:29.626891Z",
     "start_time": "2025-08-22T13:35:29.621990Z"
    }
   },
   "cell_type": "code",
   "source": [
    "import numpy as np\n",
    "\n",
    "n = np.array([10, 20, 30, 40, 50])\n",
    "indices = [1, 3, 4]\n",
    "\n",
    "o = n[indices]\n",
    "\n",
    "print(f\"Os valores do array {n} acessíveis pelos índices {indices} é:\", o)"
   ],
   "outputs": [
    {
     "name": "stdout",
     "output_type": "stream",
     "text": [
      "Os valores do array [10 20 30 40 50] acessíveis pelos índices [1, 3, 4] é: [20 40 50]\n"
     ]
    }
   ],
   "execution_count": 3
  },
  {
   "metadata": {},
   "cell_type": "markdown",
   "source": "Código 20 - Exemplo de indexação booleana"
  },
  {
   "metadata": {},
   "cell_type": "code",
   "outputs": [],
   "execution_count": null,
   "source": [
    "import numpy as np\n",
    "\n",
    "p = np.array([1, 2, 3, 4, 5])\n",
    "mask = p > 3\n",
    "maiores_que_3 = p[mask]\n",
    "\n",
    "print(f\"Os valores de {p} que são maiores que 3 são:\", maiores_que_3)"
   ]
  },
  {
   "metadata": {},
   "cell_type": "markdown",
   "source": "Código 21"
  }
 ]
}
