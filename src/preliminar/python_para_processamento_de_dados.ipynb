{
 "nbformat": 4,
 "nbformat_minor": 0,
 "metadata": {
  "colab": {
   "provenance": [],
   "collapsed_sections": [
    "fuQ8hqmFXWYw",
    "8sSvUn6SYhV0",
    "uKJFq9VmZSRT"
   ],
   "authorship_tag": "ABX9TyNpJabh/cvyqQzRbuaz3sIN",
   "include_colab_link": true
  },
  "kernelspec": {
   "name": "python3",
   "display_name": "Python 3 (ipykernel)",
   "language": "python"
  },
  "language_info": {
   "name": "python"
  }
 },
 "cells": [
  {
   "cell_type": "markdown",
   "metadata": {
    "id": "view-in-github",
    "colab_type": "text"
   },
   "source": [
    "<a href=\"https://colab.research.google.com/github/mariotlemes/pos-NLP/blob/main/python_para_processamento_de_dados.ipynb\" target=\"_parent\"><img src=\"https://colab.research.google.com/assets/colab-badge.svg\" alt=\"Open In Colab\"/></a>"
   ]
  },
  {
   "metadata": {},
   "cell_type": "markdown",
   "source": "Códigos do livro [Python para processamento de dados](https://github.com/mariotlemes/pos-NLP/blob/main/livros/1.2.2-python-para-processamento-de-dados.pdf)"
  },
  {
   "cell_type": "markdown",
   "source": [
    "Código 1 - Verificando a instalação do NumPy"
   ],
   "metadata": {
    "id": "fuQ8hqmFXWYw"
   }
  },
  {
   "metadata": {
    "ExecuteTime": {
     "end_time": "2025-08-25T17:03:47.734750Z",
     "start_time": "2025-08-25T17:03:47.447867Z"
    }
   },
   "cell_type": "code",
   "source": [
    "import numpy as np\n",
    "\n",
    "print(\"A versão do NumPy é\", np.__version__)"
   ],
   "outputs": [
    {
     "name": "stdout",
     "output_type": "stream",
     "text": [
      "A versão do NumPy é 2.3.2\n"
     ]
    }
   ],
   "execution_count": 1
  },
  {
   "metadata": {},
   "cell_type": "markdown",
   "source": "Código 2 - Exemplos de utilização da biblioteca NumPy com arrays unidimensionais\n"
  },
  {
   "metadata": {
    "ExecuteTime": {
     "end_time": "2025-08-25T11:49:38.955883Z",
     "start_time": "2025-08-25T11:49:38.953429Z"
    }
   },
   "cell_type": "code",
   "source": [
    "# array de uma dimensão\n",
    "a = np.array([1, 2, 3, 4, 5])\n",
    "print(\"Array a =\", a)\n",
    "\n",
    "# operação matemática simples\n",
    "b = a * 2\n",
    "print(\"Array b =\", b)"
   ],
   "outputs": [
    {
     "name": "stdout",
     "output_type": "stream",
     "text": [
      "Array a = [1 2 3 4 5]\n",
      "Array b = [ 2  4  6  8 10]\n"
     ]
    }
   ],
   "execution_count": 68
  },
  {
   "cell_type": "markdown",
   "source": [
    "Código 3 - Exemplos de utilização da biblioteca NumPy com arrays multidimensionais e funções"
   ],
   "metadata": {
    "id": "uKJFq9VmZSRT"
   }
  },
  {
   "cell_type": "code",
   "source": [
    "c = np.array([[1,2], [3,4]])\n",
    "print(\"Matriz:\\n\", c)\n",
    "\n",
    "print(\"\\n\")\n",
    "\n",
    "# soma simples em cada número da matriz\n",
    "d = c + 3\n",
    "print(\"Matriz d:\\n\", d)\n",
    "\n",
    "print(\"\\n\")\n",
    "\n",
    "# calcular a media dos elementos do array a\n",
    "media  = np.mean(a)\n",
    "print(\"A média dos elementos do array a é:\", media)"
   ],
   "metadata": {
    "colab": {
     "base_uri": "https://localhost:8080/"
    },
    "id": "F1u-1yyqZWTN",
    "outputId": "304f3334-4f4a-4eb2-bc50-713dce4b2c5e",
    "ExecuteTime": {
     "end_time": "2025-08-25T11:49:38.975224Z",
     "start_time": "2025-08-25T11:49:38.972157Z"
    }
   },
   "outputs": [
    {
     "name": "stdout",
     "output_type": "stream",
     "text": [
      "Matriz:\n",
      " [[1 2]\n",
      " [3 4]]\n",
      "\n",
      "\n",
      "Matriz d:\n",
      " [[4 5]\n",
      " [6 7]]\n",
      "\n",
      "\n",
      "A média dos elementos do array a é: 3.0\n"
     ]
    }
   ],
   "execution_count": 69
  },
  {
   "cell_type": "markdown",
   "source": [
    "Código 4 - Exemplo de criação de um array a partir de uma lista"
   ],
   "metadata": {
    "id": "-RJkJg2TaWwL"
   }
  },
  {
   "cell_type": "code",
   "source": [
    "import numpy as np\n",
    "\n",
    "a = np.array([1, 2, 3, 4, 5])\n",
    "print(\"Array a:\", a)"
   ],
   "metadata": {
    "colab": {
     "base_uri": "https://localhost:8080/"
    },
    "id": "3IpBhnvnaZzx",
    "outputId": "0ab553b6-ab8e-4156-801e-372e154ba646",
    "ExecuteTime": {
     "end_time": "2025-08-25T11:49:38.992860Z",
     "start_time": "2025-08-25T11:49:38.989238Z"
    }
   },
   "outputs": [
    {
     "name": "stdout",
     "output_type": "stream",
     "text": [
      "Array a: [1 2 3 4 5]\n"
     ]
    }
   ],
   "execution_count": 70
  },
  {
   "cell_type": "markdown",
   "source": [
    "Código 5 - Criando array de zeros com np.zeros"
   ],
   "metadata": {
    "id": "Jr6a2BTiazpA"
   }
  },
  {
   "cell_type": "code",
   "source": [
    "zeros_array = np.zeros((3,3))\n",
    "print(\"Matriz de zeros 3x3:\\n\", zeros_array)"
   ],
   "metadata": {
    "colab": {
     "base_uri": "https://localhost:8080/"
    },
    "id": "R1gdo_qAa3Xn",
    "outputId": "740dd5f6-4d15-4cc0-e7a7-b4abce0e929e",
    "ExecuteTime": {
     "end_time": "2025-08-25T11:49:39.007219Z",
     "start_time": "2025-08-25T11:49:39.004996Z"
    }
   },
   "outputs": [
    {
     "name": "stdout",
     "output_type": "stream",
     "text": [
      "Matriz de zeros 3x3:\n",
      " [[0. 0. 0.]\n",
      " [0. 0. 0.]\n",
      " [0. 0. 0.]]\n"
     ]
    }
   ],
   "execution_count": 71
  },
  {
   "metadata": {},
   "cell_type": "markdown",
   "source": ""
  },
  {
   "cell_type": "markdown",
   "source": [
    "Código 6 - Exemplo de utilização da função np.arange\n",
    "\n",
    "Função np.arrange(start, stop, step): usada para criar arrays com valores sequenciais"
   ],
   "metadata": {
    "id": "-dnPM5ysbRuZ"
   }
  },
  {
   "cell_type": "code",
   "source": [
    "import numpy as np\n",
    "\n",
    "range_array = np.arange(0, 10, 2)\n",
    "print(\"O array é:\", range_array)"
   ],
   "metadata": {
    "colab": {
     "base_uri": "https://localhost:8080/"
    },
    "id": "bsdVx_-3bep1",
    "outputId": "0199c885-0433-4b3e-e162-a8628cd2dca3",
    "ExecuteTime": {
     "end_time": "2025-08-25T11:49:39.026883Z",
     "start_time": "2025-08-25T11:49:39.024277Z"
    }
   },
   "outputs": [
    {
     "name": "stdout",
     "output_type": "stream",
     "text": [
      "O array é: [0 2 4 6 8]\n"
     ]
    }
   ],
   "execution_count": 72
  },
  {
   "cell_type": "markdown",
   "source": [
    "Código 7 - Exemplo de utilização da função np.linspace\n",
    "\n",
    "Função np.linspace(start, stop, num): cria arrays com valores espaçados uniformemente em um intervalo"
   ],
   "metadata": {
    "id": "mHg4VJSZb4SC"
   }
  },
  {
   "cell_type": "code",
   "source": [
    "import numpy as np\n",
    "\n",
    "linspace_array = np.linspace(0, 1, 5)\n",
    "print(\"O array é:\", linspace_array)\n"
   ],
   "metadata": {
    "colab": {
     "base_uri": "https://localhost:8080/"
    },
    "id": "Ec9rCXmfcFyH",
    "outputId": "dcd34a9a-3c2e-4f95-dad9-489e6a6b58dc",
    "ExecuteTime": {
     "end_time": "2025-08-25T11:49:39.037102Z",
     "start_time": "2025-08-25T11:49:39.034774Z"
    }
   },
   "outputs": [
    {
     "name": "stdout",
     "output_type": "stream",
     "text": [
      "O array é: [0.   0.25 0.5  0.75 1.  ]\n"
     ]
    }
   ],
   "execution_count": 73
  },
  {
   "cell_type": "markdown",
   "source": [
    "Código 8 - Atributos shape e ndim de um array NumPy"
   ],
   "metadata": {
    "id": "t2m0nli2csn_"
   }
  },
  {
   "cell_type": "code",
   "source": [
    "import numpy as np\n",
    "\n",
    "linspace_array = np.linspace(0, 1, 5)\n",
    "print(\"Array:\", linspace_array)\n",
    "print(\"Forma do array:\", linspace_array.shape)\n",
    "print(\"Número de dimensões:\", linspace_array.ndim)\n"
   ],
   "metadata": {
    "colab": {
     "base_uri": "https://localhost:8080/"
    },
    "id": "kzlfkmXdc049",
    "outputId": "a2276006-ec64-44cd-9dfc-3a85531c3d33",
    "ExecuteTime": {
     "end_time": "2025-08-25T11:49:39.056524Z",
     "start_time": "2025-08-25T11:49:39.053995Z"
    }
   },
   "outputs": [
    {
     "name": "stdout",
     "output_type": "stream",
     "text": [
      "Array: [0.   0.25 0.5  0.75 1.  ]\n",
      "Forma do array: (5,)\n",
      "Número de dimensões: 1\n"
     ]
    }
   ],
   "execution_count": 74
  },
  {
   "cell_type": "markdown",
   "source": [
    "Código 9 - Exemplo de criação de array multidimensional (matriz 2x3) a partir de listas"
   ],
   "metadata": {
    "id": "kY-xcO-Pdi3J"
   }
  },
  {
   "cell_type": "code",
   "source": [
    "import numpy as np\n",
    "\n",
    "matriz = np.array([[1, 2, 3], [4, 5, 6]])\n",
    "print(\"Matriz 2x3:\\n\", matriz)"
   ],
   "metadata": {
    "colab": {
     "base_uri": "https://localhost:8080/"
    },
    "id": "2yNkpNbFdl59",
    "outputId": "bcf1ae40-ab0a-4e7b-a0b9-105ba5781f83",
    "ExecuteTime": {
     "end_time": "2025-08-25T11:49:39.073387Z",
     "start_time": "2025-08-25T11:49:39.071137Z"
    }
   },
   "outputs": [
    {
     "name": "stdout",
     "output_type": "stream",
     "text": [
      "Matriz 2x3:\n",
      " [[1 2 3]\n",
      " [4 5 6]]\n"
     ]
    }
   ],
   "execution_count": 75
  },
  {
   "cell_type": "markdown",
   "source": [
    "Código 10 - Exemplo de utilização do atributo dtype de um array do NumPy"
   ],
   "metadata": {
    "id": "6qbrwlm6d7OJ"
   }
  },
  {
   "cell_type": "code",
   "source": [
    "import numpy as np\n",
    "\n",
    "matriz = np.array([[1, 2, 3], [4, 5, 6]])\n",
    "print(\"O tipo de dados da matriz é:\", matriz.dtype)"
   ],
   "metadata": {
    "colab": {
     "base_uri": "https://localhost:8080/"
    },
    "id": "LVKbc6Afd-zl",
    "outputId": "2663d594-8ec8-4347-a0d7-e17acf57aae4",
    "ExecuteTime": {
     "end_time": "2025-08-25T11:49:39.088045Z",
     "start_time": "2025-08-25T11:49:39.085889Z"
    }
   },
   "outputs": [
    {
     "name": "stdout",
     "output_type": "stream",
     "text": [
      "O tipo de dados da matriz é: int64\n"
     ]
    }
   ],
   "execution_count": 76
  },
  {
   "cell_type": "markdown",
   "source": [
    "Código 11 - Alterando o valor da posição 0 de um array previamente definido"
   ],
   "metadata": {
    "id": "GwqSayLIeQZB"
   }
  },
  {
   "metadata": {
    "ExecuteTime": {
     "end_time": "2025-08-25T11:49:39.102778Z",
     "start_time": "2025-08-25T11:49:39.100352Z"
    }
   },
   "cell_type": "code",
   "source": [
    "# import numpy as np\n",
    "\n",
    "array_a = ([1, 2, 3, 4, 5])\n",
    "array_a[0] = 10\n",
    "print(\"O novo array a é:\", array_a)"
   ],
   "outputs": [
    {
     "name": "stdout",
     "output_type": "stream",
     "text": [
      "O novo array a é: [10, 2, 3, 4, 5]\n"
     ]
    }
   ],
   "execution_count": 77
  },
  {
   "cell_type": "markdown",
   "source": [
    "Código 12 - Exemplos com listas (mutável), tuplas (imutável) e sets (não ordenado e sem duplicatas)"
   ],
   "metadata": {
    "id": "jm2qW24Aeood"
   }
  },
  {
   "metadata": {
    "ExecuteTime": {
     "end_time": "2025-08-25T11:49:39.115363Z",
     "start_time": "2025-08-25T11:49:39.112686Z"
    }
   },
   "cell_type": "code",
   "source": [
    "# import numpy as np\n",
    "\n",
    "lista = [1, \"dois\", 3.0]\n",
    "\n",
    "print(\"A lista mista é:\", lista)\n",
    "\n",
    "# adicionando um novo membro\n",
    "lista.append(4)\n",
    "print(\"A lista com append é:\", lista)\n",
    "\n",
    "tupla = (1, 2, 3)\n",
    "print(\"O valor da tupla é:\", tupla)\n",
    "\n",
    "# não é possível\n",
    "# tupla[0] = 2\n",
    "\n",
    "conjunto  = {1, 2, 3, 3}\n",
    "print(\"O valor do conjunto (não mostra valores duplicados) é:\", conjunto)"
   ],
   "outputs": [
    {
     "name": "stdout",
     "output_type": "stream",
     "text": [
      "A lista mista é: [1, 'dois', 3.0]\n",
      "A lista com append é: [1, 'dois', 3.0, 4]\n",
      "O valor da tupla é: (1, 2, 3)\n",
      "O valor do conjunto (não mostra valores duplicados) é: {1, 2, 3}\n"
     ]
    }
   ],
   "execution_count": 78
  },
  {
   "cell_type": "markdown",
   "source": [
    "Código 13 - Comparando o tempo de execução entre listas e arrays do NumPy"
   ],
   "metadata": {
    "id": "3ulRKNyLgvhH"
   }
  },
  {
   "cell_type": "code",
   "source": [
    "import numpy as np\n",
    "import time\n",
    "\n",
    "lista = list(range(1000000))\n",
    "inicio = time.time()\n",
    "lista = [valor + 1 for valor in lista]\n",
    "fim = time.time()\n",
    "print(\"Tempo de processamento com lista é:\", fim - inicio)\n",
    "\n",
    "array = np.arange(1000000)\n",
    "inicio2 = time.time()\n",
    "array += 1\n",
    "fim2 = time.time()\n",
    "print(\"Tempo de processamento com array é:\", fim2 - inicio2)"
   ],
   "metadata": {
    "colab": {
     "base_uri": "https://localhost:8080/"
    },
    "id": "ZpBOWC6wgyy1",
    "outputId": "51fe1737-b233-4641-f26a-8915f5007dab",
    "ExecuteTime": {
     "end_time": "2025-08-25T11:49:39.175085Z",
     "start_time": "2025-08-25T11:49:39.127500Z"
    }
   },
   "outputs": [
    {
     "name": "stdout",
     "output_type": "stream",
     "text": [
      "Tempo de processamento com lista é: 0.03378415107727051\n",
      "Tempo de processamento com array é: 0.0006163120269775391\n"
     ]
    }
   ],
   "execution_count": 79
  },
  {
   "cell_type": "markdown",
   "source": [
    "Código 14 - Exemplo de operações aritméticas com arrays"
   ],
   "metadata": {
    "id": "OWb8EV2AiMMM"
   }
  },
  {
   "cell_type": "code",
   "source": [
    "import numpy as np\n",
    "\n",
    "a = np.array([1, 2, 3])\n",
    "b = np.array([4, 5 , 6])\n",
    "\n",
    "print(\"O valor do array a + array b é: \", a + b)\n",
    "print(\"O valor do array a - b é: \", a - b)\n",
    "print(\"O valor de multiplicação do array a por b é:\",  a * b)\n",
    "print(\"A divisão do array a por b é:\", a / b)"
   ],
   "metadata": {
    "colab": {
     "base_uri": "https://localhost:8080/"
    },
    "id": "YHiVpxIWg8w7",
    "outputId": "4088c0ae-ffb8-416e-c1cd-d6a9fb19000d",
    "ExecuteTime": {
     "end_time": "2025-08-25T11:49:39.187311Z",
     "start_time": "2025-08-25T11:49:39.183969Z"
    }
   },
   "outputs": [
    {
     "name": "stdout",
     "output_type": "stream",
     "text": [
      "O valor do array a + array b é:  [5 7 9]\n",
      "O valor do array a - b é:  [-3 -3 -3]\n",
      "O valor de multiplicação do array a por b é: [ 4 10 18]\n",
      "A divisão do array a por b é: [0.25 0.4  0.5 ]\n"
     ]
    }
   ],
   "execution_count": 80
  },
  {
   "metadata": {},
   "cell_type": "markdown",
   "source": "Código 15 - Exemplo de broadcasting (operação com arrays de diferentes tamanhos) entre arrays"
  },
  {
   "metadata": {
    "ExecuteTime": {
     "end_time": "2025-08-25T11:49:39.193597Z",
     "start_time": "2025-08-25T11:49:39.191223Z"
    }
   },
   "cell_type": "code",
   "source": [
    "import numpy as np\n",
    "\n",
    "h = np.array([1, 2, 3])\n",
    "i = np.array([[0], [1], [2]])\n",
    "# print(h)\n",
    "# print(i)\n",
    "\n",
    "j = h + 1\n",
    "\n",
    "print(j)\n",
    "\n"
   ],
   "outputs": [
    {
     "name": "stdout",
     "output_type": "stream",
     "text": [
      "[2 3 4]\n"
     ]
    }
   ],
   "execution_count": 81
  },
  {
   "metadata": {},
   "cell_type": "markdown",
   "source": "Código 16 - Exemplos de indexação e slicing"
  },
  {
   "metadata": {
    "ExecuteTime": {
     "end_time": "2025-08-25T11:49:39.211263Z",
     "start_time": "2025-08-25T11:49:39.208876Z"
    }
   },
   "cell_type": "code",
   "source": [
    "a = np.array([1, 2, 3])\n",
    "\n",
    "k = a[1]\n",
    "print(\"O elemento do índice 1 é:\", k)\n",
    "\n",
    "l = a[0:2]\n",
    "print(\"Os dois primeiros elementos do array a é:\", l)"
   ],
   "outputs": [
    {
     "name": "stdout",
     "output_type": "stream",
     "text": [
      "O elemento do índice 1 é: 2\n",
      "Os dois primeiros elementos do array a é: [1 2]\n"
     ]
    }
   ],
   "execution_count": 82
  },
  {
   "metadata": {},
   "cell_type": "markdown",
   "source": "Código 17 - Exemplo de zeroing com slicing"
  },
  {
   "metadata": {
    "ExecuteTime": {
     "end_time": "2025-08-25T11:49:39.221172Z",
     "start_time": "2025-08-25T11:49:39.218473Z"
    }
   },
   "cell_type": "code",
   "source": [
    "m = np.array([1, 2, 3, 4, 5])\n",
    "print(\"O array m é:\", m)\n",
    "\n",
    "# Zerando do elemento 1 ao 3 (um entra e 4 é o limite superior). Então o slice vai funcionar da posição 1 a 3.\n",
    "m[1:4] = 0\n",
    "\n",
    "print(\"Saída depois de zerar é:\", m)"
   ],
   "outputs": [
    {
     "name": "stdout",
     "output_type": "stream",
     "text": [
      "O array m é: [1 2 3 4 5]\n",
      "Saída depois de zerar é: [1 0 0 0 5]\n"
     ]
    }
   ],
   "execution_count": 83
  },
  {
   "metadata": {},
   "cell_type": "markdown",
   "source": "Código 18 - Slicing com step"
  },
  {
   "metadata": {
    "ExecuteTime": {
     "end_time": "2025-08-25T11:49:39.237349Z",
     "start_time": "2025-08-25T11:49:39.234745Z"
    }
   },
   "cell_type": "code",
   "source": [
    "import numpy as np\n",
    "\n",
    "a = np.array([0, 1, 2, 3, 4, 5, 6, 7, 8, 9])\n",
    "print(\"O array a é:\", a)\n",
    "\n",
    "step_slice = a[1 : 8 : 2]\n",
    "print(\"A lógica array[inicio:fim:passo] pode ser usada para partição de um array. Olha o resultado:\", step_slice)\n",
    "\n",
    "slice_revertido = step_slice[::-1]\n",
    "\n",
    "print(\"Para inverter um slice, basta usar a sintaxe array[::-1]. Veja o array step_slice invertido:\", slice_revertido)\n"
   ],
   "outputs": [
    {
     "name": "stdout",
     "output_type": "stream",
     "text": [
      "O array a é: [0 1 2 3 4 5 6 7 8 9]\n",
      "A lógica array[inicio:fim:passo] pode ser usada para partição de um array. Olha o resultado: [1 3 5 7]\n",
      "Para inverter um slice, basta usar a sintaxe array[::-1]. Veja o array step_slice invertido: [7 5 3 1]\n"
     ]
    }
   ],
   "execution_count": 84
  },
  {
   "metadata": {},
   "cell_type": "markdown",
   "source": "Código 19 - Exemplo de indexação com lista de índices"
  },
  {
   "metadata": {
    "ExecuteTime": {
     "end_time": "2025-08-25T11:49:39.247120Z",
     "start_time": "2025-08-25T11:49:39.244464Z"
    }
   },
   "cell_type": "code",
   "source": [
    "import numpy as np\n",
    "\n",
    "n = np.array([10, 20, 30, 40, 50])\n",
    "indices = [1, 3, 4]\n",
    "\n",
    "o = n[indices]\n",
    "\n",
    "print(f\"Os valores do array {n} acessíveis pelos índices {indices} é:\", o)"
   ],
   "outputs": [
    {
     "name": "stdout",
     "output_type": "stream",
     "text": [
      "Os valores do array [10 20 30 40 50] acessíveis pelos índices [1, 3, 4] é: [20 40 50]\n"
     ]
    }
   ],
   "execution_count": 85
  },
  {
   "metadata": {},
   "cell_type": "markdown",
   "source": "Código 20 - Exemplo de indexação booleana"
  },
  {
   "metadata": {
    "ExecuteTime": {
     "end_time": "2025-08-25T11:49:39.263370Z",
     "start_time": "2025-08-25T11:49:39.261066Z"
    }
   },
   "cell_type": "code",
   "source": [
    "import numpy as np\n",
    "\n",
    "p = np.array([1, 2, 3, 4, 5])\n",
    "mask = p > 3\n",
    "maiores_que_3 = p[mask]\n",
    "\n",
    "print(f\"Os valores de {p} que são maiores que 3 são:\", maiores_que_3)"
   ],
   "outputs": [
    {
     "name": "stdout",
     "output_type": "stream",
     "text": [
      "Os valores de [1 2 3 4 5] que são maiores que 3 são: [4 5]\n"
     ]
    }
   ],
   "execution_count": 86
  },
  {
   "metadata": {},
   "cell_type": "markdown",
   "source": "Código 21 - Exemplo usando np.where"
  },
  {
   "metadata": {
    "ExecuteTime": {
     "end_time": "2025-08-25T11:49:39.278038Z",
     "start_time": "2025-08-25T11:49:39.275521Z"
    }
   },
   "cell_type": "code",
   "source": [
    "import numpy as np\n",
    "\n",
    "r = np.array([1, 2, 3, 4, 5])\n",
    "s = np.where(r < 3, 0, r)\n",
    "\n",
    "print(f\"A substituição no array {r} foi realizada nas posições onde o r era menor que 3. \\nVeja o resultado: {s}\")"
   ],
   "outputs": [
    {
     "name": "stdout",
     "output_type": "stream",
     "text": [
      "A substituição no array [1 2 3 4 5] foi realizada nas posições onde o r era menor que 3. \n",
      "Veja o resultado: [0 0 3 4 5]\n"
     ]
    }
   ],
   "execution_count": 87
  },
  {
   "metadata": {},
   "cell_type": "markdown",
   "source": "Código 22 - Exemplo de operações de álgebra linear (produto escalar, determinante e autovalores)"
  },
  {
   "metadata": {
    "ExecuteTime": {
     "end_time": "2025-08-25T11:49:39.294482Z",
     "start_time": "2025-08-25T11:49:39.290072Z"
    }
   },
   "cell_type": "code",
   "source": [
    "import numpy as np\n",
    "\n",
    "A = np.array([[1,2], [3, 4]])\n",
    "print(\"Matriz A:\\n\", A)\n",
    "\n",
    "B = np.array([[2,0], [1,2]])\n",
    "print(\"Matriz B:\\n\", B)\n",
    "\n",
    "produto =  np.dot(A, B)\n",
    "print(f\"O produto escalar da Matriz A pela Matriz B é:\\n\", produto)\n",
    "\n",
    "determinante = np.linalg.det(A)\n",
    "print(\"Determinante de A:\", determinante)\n",
    "\n",
    "auto_valores = np.linalg.eigvals(A)\n",
    "print(\"Autovalores de A:\", auto_valores)"
   ],
   "outputs": [
    {
     "name": "stdout",
     "output_type": "stream",
     "text": [
      "Matriz A:\n",
      " [[1 2]\n",
      " [3 4]]\n",
      "Matriz B:\n",
      " [[2 0]\n",
      " [1 2]]\n",
      "O produto escalar da Matriz A pela Matriz B é:\n",
      " [[ 4  4]\n",
      " [10  8]]\n",
      "Determinante de A: -2.0000000000000004\n",
      "Autovalores de A: [-0.37228132  5.37228132]\n"
     ]
    }
   ],
   "execution_count": 88
  },
  {
   "metadata": {},
   "cell_type": "markdown",
   "source": "Código 23 - Exemplo de operações estatísticas"
  },
  {
   "metadata": {
    "ExecuteTime": {
     "end_time": "2025-08-25T11:49:39.308044Z",
     "start_time": "2025-08-25T11:49:39.304934Z"
    }
   },
   "cell_type": "code",
   "source": [
    "import numpy as np\n",
    "\n",
    "dados = np.array([1, 2, 3, 4, 5])\n",
    "\n",
    "media = np.mean(dados)\n",
    "mediana = np.median(dados)\n",
    "desvio_padrao = np.std(dados)\n",
    "\n",
    "print(f\"A média dos valores de {dados} é:\", media)\n",
    "print(f\"A mediana dos valores de {dados} é:\", mediana)\n",
    "print(f\"O desvio-padrão dos valores de {dados} é:\", desvio_padrao)"
   ],
   "outputs": [
    {
     "name": "stdout",
     "output_type": "stream",
     "text": [
      "A média dos valores de [1 2 3 4 5] é: 3.0\n",
      "A mediana dos valores de [1 2 3 4 5] é: 3.0\n",
      "O desvio-padrão dos valores de [1 2 3 4 5] é: 1.4142135623730951\n"
     ]
    }
   ],
   "execution_count": 89
  },
  {
   "metadata": {},
   "cell_type": "markdown",
   "source": "Código 24 - Visualização de dados com NumPy e Matplotlib"
  },
  {
   "metadata": {
    "ExecuteTime": {
     "end_time": "2025-08-25T11:49:39.878700Z",
     "start_time": "2025-08-25T11:49:39.313720Z"
    }
   },
   "cell_type": "code",
   "source": [
    "import numpy as np\n",
    "import matplotlib.pyplot as plt\n",
    "\n",
    "# Dados\n",
    "x = np.linspace(0, 10, 100)\n",
    "y  = np.sin(x)\n",
    "\n",
    "# Plotando\n",
    "plt.figure(figsize=(8,4))\n",
    "plt.plot(x, y, label='sin(x')\n",
    "plt.title(\"Gráfico de linha simples\")\n",
    "plt.xlabel('Valor de x')\n",
    "plt.ylabel('sin(x)')\n",
    "plt.legend()\n",
    "plt.grid()\n",
    "plt.show()\n"
   ],
   "outputs": [
    {
     "data": {
      "text/plain": [
       "<Figure size 800x400 with 1 Axes>"
      ],
      "image/png": "[encoded data removed]"
     },
     "metadata": {},
     "output_type": "display_data"
    }
   ],
   "execution_count": 90
  },
  {
   "metadata": {
    "ExecuteTime": {
     "end_time": "2025-08-22T17:08:20.555713Z",
     "start_time": "2025-08-22T17:08:20.553402Z"
    }
   },
   "cell_type": "markdown",
   "source": "Código 25 - Exemplo de histograma com NumPy e Matplotlib"
  },
  {
   "metadata": {
    "ExecuteTime": {
     "end_time": "2025-08-25T11:49:39.946703Z",
     "start_time": "2025-08-25T11:49:39.888035Z"
    }
   },
   "cell_type": "code",
   "source": [
    "import numpy as np\n",
    "import matplotlib.pyplot as plt\n",
    "\n",
    "# Dados aleatórios\n",
    "data = np.random.normal(size=1000)\n",
    "# Histograma\n",
    "plt.figure(figsize=(8, 4))\n",
    "plt.hist(data, bins=30, alpha=0.75, color='blue', edgecolor='black')\n",
    "plt.title('Histograma de Dados Aleatórios')\n",
    "plt.xlabel('Valores')\n",
    "plt.ylabel('Frequência')\n",
    "plt.grid(True)\n",
    "plt.show()"
   ],
   "outputs": [
    {
     "data": {
      "text/plain": [
       "<Figure size 800x400 with 1 Axes>"
      ],
      "image/png": "[encoded data removed]"
     },
     "metadata": {},
     "output_type": "display_data"
    }
   ],
   "execution_count": 91
  },
  {
   "metadata": {},
   "cell_type": "markdown",
   "source": "Código 26 - Exemplo de criação de uma Series do Pandas"
  },
  {
   "metadata": {
    "ExecuteTime": {
     "end_time": "2025-08-25T11:49:39.959914Z",
     "start_time": "2025-08-25T11:49:39.956651Z"
    }
   },
   "cell_type": "code",
   "source": [
    "import pandas as pd\n",
    "import numpy as np\n",
    "\n",
    "print(f\"A versão do pandas é {pd.__version__}\")\n",
    "\n",
    "s = pd.Series([1, 3, 5, np.nan, 6, 8])\n",
    "print(s)"
   ],
   "outputs": [
    {
     "name": "stdout",
     "output_type": "stream",
     "text": [
      "A versão do pandas é 2.3.2\n",
      "0    1.0\n",
      "1    3.0\n",
      "2    5.0\n",
      "3    NaN\n",
      "4    6.0\n",
      "5    8.0\n",
      "dtype: float64\n"
     ]
    }
   ],
   "execution_count": 92
  },
  {
   "metadata": {},
   "cell_type": "markdown",
   "source": "Código 27 - Exemplo de criação de um DataFrame do Pandas"
  },
  {
   "metadata": {
    "ExecuteTime": {
     "end_time": "2025-08-25T11:49:39.976174Z",
     "start_time": "2025-08-25T11:49:39.972444Z"
    }
   },
   "cell_type": "code",
   "source": [
    "import pandas as pd\n",
    "\n",
    "data = {'Nome': ['João', 'Ana', 'Pedro', 'Maria'],\n",
    "        'Idade': [28, 22, 35, 42],\n",
    "        'Cidade': ['Goiânia', 'São Paulo', 'Salvador', 'Curitiba']}\n",
    "\n",
    "df = pd.DataFrame(data)\n",
    "\n",
    "print(df)"
   ],
   "outputs": [
    {
     "name": "stdout",
     "output_type": "stream",
     "text": [
      "    Nome  Idade     Cidade\n",
      "0   João     28    Goiânia\n",
      "1    Ana     22  São Paulo\n",
      "2  Pedro     35   Salvador\n",
      "3  Maria     42   Curitiba\n"
     ]
    }
   ],
   "execution_count": 93
  },
  {
   "metadata": {},
   "cell_type": "markdown",
   "source": "Código 30 - Aplicando uma função a uma coluna usando o método apply"
  },
  {
   "metadata": {
    "ExecuteTime": {
     "end_time": "2025-08-25T11:49:39.985867Z",
     "start_time": "2025-08-25T11:49:39.982836Z"
    }
   },
   "cell_type": "code",
   "source": [
    "df['Idade_dobrada'] = df['Idade'].apply(lambda idade: idade * 2)\n",
    "print(df)"
   ],
   "outputs": [
    {
     "name": "stdout",
     "output_type": "stream",
     "text": [
      "    Nome  Idade     Cidade  Idade_dobrada\n",
      "0   João     28    Goiânia             56\n",
      "1    Ana     22  São Paulo             44\n",
      "2  Pedro     35   Salvador             70\n",
      "3  Maria     42   Curitiba             84\n"
     ]
    }
   ],
   "execution_count": 94
  },
  {
   "metadata": {},
   "cell_type": "markdown",
   "source": "Código 31 - Agrupando dados e calculando a média da idade por cidade"
  },
  {
   "metadata": {
    "ExecuteTime": {
     "end_time": "2025-08-25T11:49:39.996963Z",
     "start_time": "2025-08-25T11:49:39.993901Z"
    }
   },
   "cell_type": "code",
   "source": [
    "media_idade_por_cidade = df.groupby('Cidade')['Idade'].mean()\n",
    "\n",
    "print(media_idade_por_cidade)"
   ],
   "outputs": [
    {
     "name": "stdout",
     "output_type": "stream",
     "text": [
      "Cidade\n",
      "Curitiba     42.0\n",
      "Goiânia      28.0\n",
      "Salvador     35.0\n",
      "São Paulo    22.0\n",
      "Name: Idade, dtype: float64\n"
     ]
    }
   ],
   "execution_count": 95
  },
  {
   "metadata": {},
   "cell_type": "markdown",
   "source": "Código 32 - Criação de series com Pandas"
  },
  {
   "metadata": {
    "ExecuteTime": {
     "end_time": "2025-08-25T11:49:40.011735Z",
     "start_time": "2025-08-25T11:49:40.008670Z"
    }
   },
   "cell_type": "code",
   "source": [
    "import pandas as pd\n",
    "\n",
    "s1 = pd.Series([1, 3, 5, np.nan, 6, 8])\n",
    "print(s1)\n",
    "\n",
    "s2 = pd.Series({'a' : 1,'b': 2, 'c': 3})\n",
    "print(s2)\n",
    "# print(f\"A series S2 criada a partir do dicionário é:\\n {s2}\")"
   ],
   "outputs": [
    {
     "name": "stdout",
     "output_type": "stream",
     "text": [
      "0    1.0\n",
      "1    3.0\n",
      "2    5.0\n",
      "3    NaN\n",
      "4    6.0\n",
      "5    8.0\n",
      "dtype: float64\n",
      "a    1\n",
      "b    2\n",
      "c    3\n",
      "dtype: int64\n"
     ]
    }
   ],
   "execution_count": 96
  },
  {
   "metadata": {},
   "cell_type": "markdown",
   "source": "Código 33 - Diferentes formas de indexação de séries"
  },
  {
   "metadata": {
    "ExecuteTime": {
     "end_time": "2025-08-25T11:49:40.026804Z",
     "start_time": "2025-08-25T11:49:40.022791Z"
    }
   },
   "cell_type": "code",
   "source": [
    "import pandas as pd\n",
    "\n",
    "s = pd.Series([1, 3, 5, None, 6, 8], index=['a', 'b', 'c', 'd', 'e', 'f'])\n",
    "\n",
    "print(f'Exemplo de criação de uma série com index associado:\\n{s}')\n",
    "\n",
    "# Indexação direta\n",
    "print(s['a'])\n",
    "\n",
    "# Indexação com loc\n",
    "print(s.loc['a'])\n",
    "\n",
    "# Slicing com loc\n",
    "print(s.loc['a':'c'])\n",
    "\n",
    "# Slicing com iloc\n",
    "print(s.iloc[2])\n",
    "\n",
    "print(s.iloc[1:2])"
   ],
   "outputs": [
    {
     "name": "stdout",
     "output_type": "stream",
     "text": [
      "Exemplo de criação de uma série com index associado:\n",
      "a    1.0\n",
      "b    3.0\n",
      "c    5.0\n",
      "d    NaN\n",
      "e    6.0\n",
      "f    8.0\n",
      "dtype: float64\n",
      "1.0\n",
      "1.0\n",
      "a    1.0\n",
      "b    3.0\n",
      "c    5.0\n",
      "dtype: float64\n",
      "5.0\n",
      "b    3.0\n",
      "dtype: float64\n"
     ]
    }
   ],
   "execution_count": 97
  },
  {
   "metadata": {},
   "cell_type": "markdown",
   "source": "Código 35 - Atributos úteis de séries em Pandas"
  },
  {
   "metadata": {
    "ExecuteTime": {
     "end_time": "2025-08-25T11:49:40.043282Z",
     "start_time": "2025-08-25T11:49:40.040846Z"
    }
   },
   "cell_type": "code",
   "source": [
    "print(f'Acessando índices: {s.index}')\n",
    "print(f'Acessando valores: {s.values}')\n",
    "print(f'Acessando tipo: {s.dtype}')\n"
   ],
   "outputs": [
    {
     "name": "stdout",
     "output_type": "stream",
     "text": [
      "Acessando índices: Index(['a', 'b', 'c', 'd', 'e', 'f'], dtype='object')\n",
      "Acessando valores: [ 1.  3.  5. nan  6.  8.]\n",
      "Acessando tipo: float64\n"
     ]
    }
   ],
   "execution_count": 98
  },
  {
   "metadata": {},
   "cell_type": "markdown",
   "source": "Código 36 - Operações aritméticas em séries"
  },
  {
   "metadata": {
    "ExecuteTime": {
     "end_time": "2025-08-25T11:49:40.058767Z",
     "start_time": "2025-08-25T11:49:40.055905Z"
    }
   },
   "cell_type": "code",
   "source": "print(f'Somando 10 na serie: \\n {s}')",
   "outputs": [
    {
     "name": "stdout",
     "output_type": "stream",
     "text": [
      "Somando 10 na serie: \n",
      " a    1.0\n",
      "b    3.0\n",
      "c    5.0\n",
      "d    NaN\n",
      "e    6.0\n",
      "f    8.0\n",
      "dtype: float64\n"
     ]
    }
   ],
   "execution_count": 99
  },
  {
   "metadata": {},
   "cell_type": "markdown",
   "source": "Código 37 - Filtragem com condição booleana e where"
  },
  {
   "metadata": {
    "ExecuteTime": {
     "end_time": "2025-08-25T12:00:59.115899Z",
     "start_time": "2025-08-25T12:00:59.112110Z"
    }
   },
   "cell_type": "code",
   "source": [
    "print(s[s > s.mean()])\n",
    "\n",
    "print('\\n')\n",
    "\n",
    "#  Filtragem e substituição\n",
    "print(s.where(s > 3, \"Limite não atingido\"))"
   ],
   "outputs": [
    {
     "name": "stdout",
     "output_type": "stream",
     "text": [
      "c    5.0\n",
      "e    6.0\n",
      "f    8.0\n",
      "dtype: float64\n",
      "\n",
      "\n",
      "a    Limite não atingido\n",
      "b    Limite não atingido\n",
      "c                    5.0\n",
      "d    Limite não atingido\n",
      "e                    6.0\n",
      "f                    8.0\n",
      "dtype: object\n"
     ]
    }
   ],
   "execution_count": 112
  },
  {
   "metadata": {},
   "cell_type": "markdown",
   "source": "Código 38 - Métodos de transformação de uma série"
  },
  {
   "metadata": {
    "ExecuteTime": {
     "end_time": "2025-08-25T12:07:25.404456Z",
     "start_time": "2025-08-25T12:07:25.392284Z"
    }
   },
   "cell_type": "code",
   "source": [
    "# Ordenando os valores\n",
    "print(f'Valores ordenados:\\n{s.sort_values()}\\n')\n",
    "\n",
    "# Remover duplicados\n",
    "print(f'Remover valores duplicados:\\n{s.drop_duplicates()}\\n')\n",
    "\n",
    "# Verificar (true ou false) se existem valores nulos\n",
    "print(f'Detectar valores nulos:\\n{s.isnull()}\\n')"
   ],
   "outputs": [
    {
     "name": "stdout",
     "output_type": "stream",
     "text": [
      "Valores ordenados:\n",
      "a    1.0\n",
      "b    3.0\n",
      "c    5.0\n",
      "e    6.0\n",
      "f    8.0\n",
      "d    NaN\n",
      "dtype: float64\n",
      "\n",
      "Remover valores duplicados:\n",
      "a    1.0\n",
      "b    3.0\n",
      "c    5.0\n",
      "d    NaN\n",
      "e    6.0\n",
      "f    8.0\n",
      "dtype: float64\n",
      "\n",
      "Detectar valores nulos:\n",
      "a    False\n",
      "b    False\n",
      "c    False\n",
      "d     True\n",
      "e    False\n",
      "f    False\n",
      "dtype: bool\n",
      "\n"
     ]
    }
   ],
   "execution_count": 129
  },
  {
   "metadata": {},
   "cell_type": "markdown",
   "source": "Código 39 - Utilizando reindex para refazer os índices"
  },
  {
   "metadata": {
    "ExecuteTime": {
     "end_time": "2025-08-25T12:09:39.773448Z",
     "start_time": "2025-08-25T12:09:39.770287Z"
    }
   },
   "cell_type": "code",
   "source": "print(s.reindex(['g', 'f', 'a', 'c', 'b', 'h']))",
   "outputs": [
    {
     "name": "stdout",
     "output_type": "stream",
     "text": [
      "g    NaN\n",
      "f    8.0\n",
      "a    1.0\n",
      "c    5.0\n",
      "b    3.0\n",
      "h    NaN\n",
      "dtype: float64\n"
     ]
    }
   ],
   "execution_count": 137
  },
  {
   "metadata": {},
   "cell_type": "markdown",
   "source": "Código 40 - Criando DataFrame a partir de um dicionário de listas"
  },
  {
   "metadata": {
    "ExecuteTime": {
     "end_time": "2025-08-26T11:23:24.323356Z",
     "start_time": "2025-08-26T11:23:23.000821Z"
    }
   },
   "cell_type": "code",
   "source": [
    "import pandas as pd\n",
    "\n",
    "data = {'ID' : [1, 2, 3],\n",
    "        'Name': ['Alice', 'Bob', 'Charlie'],\n",
    "        'Age' : [10, 20, 30]}\n",
    "\n",
    "df = pd.DataFrame(data)\n",
    "print(df)\n"
   ],
   "outputs": [
    {
     "name": "stdout",
     "output_type": "stream",
     "text": [
      "   ID     Name  Age\n",
      "0   1    Alice   10\n",
      "1   2      Bob   20\n",
      "2   3  Charlie   30\n"
     ]
    }
   ],
   "execution_count": 2
  },
  {
   "metadata": {},
   "cell_type": "markdown",
   "source": "Código 41 - Acessando colunas e elementos do DataFrame"
  },
  {
   "metadata": {
    "ExecuteTime": {
     "end_time": "2025-08-26T11:23:25.724013Z",
     "start_time": "2025-08-26T11:23:25.721472Z"
    }
   },
   "cell_type": "code",
   "source": [
    "# Acessando valores específicos\n",
    "\n",
    "print(df['Name'])\n",
    "\n",
    "print('\\n')\n",
    "\n",
    "# Acessando um elemento específico\n",
    "print(df.loc[0, 'Name'])\n",
    "print(df['Name'][0])"
   ],
   "outputs": [
    {
     "name": "stdout",
     "output_type": "stream",
     "text": [
      "0      Alice\n",
      "1        Bob\n",
      "2    Charlie\n",
      "Name: Name, dtype: object\n",
      "\n",
      "\n",
      "Alice\n",
      "Alice\n"
     ]
    }
   ],
   "execution_count": 3
  },
  {
   "metadata": {},
   "cell_type": "markdown",
   "source": "Código 42 - Adição e exclusão de uma coluna a um DataFrame"
  },
  {
   "metadata": {
    "ExecuteTime": {
     "end_time": "2025-08-26T11:25:29.264476Z",
     "start_time": "2025-08-26T11:25:29.258878Z"
    }
   },
   "cell_type": "code",
   "source": [
    "df['Departament'] = ['RH', 'Tech', 'Marketing']\n",
    "\n",
    "df.drop('Departament', axis=1, inplace=True)\n",
    "\n",
    "print(df)"
   ],
   "outputs": [
    {
     "name": "stdout",
     "output_type": "stream",
     "text": [
      "   ID     Name  Age\n",
      "0   1    Alice   10\n",
      "1   2      Bob   20\n",
      "2   3  Charlie   30\n"
     ]
    }
   ],
   "execution_count": 6
  },
  {
   "metadata": {},
   "cell_type": "markdown",
   "source": "Código 43 - Utilização de append e drop para manipulação de linhas"
  },
  {
   "metadata": {
    "ExecuteTime": {
     "end_time": "2025-08-26T11:28:40.414171Z",
     "start_time": "2025-08-26T11:28:40.409814Z"
    }
   },
   "cell_type": "code",
   "source": [
    "# Adicionando uma nova linha\n",
    "\n",
    "new_line = {'ID': 4, 'Name': 'Dave', 'Age': 30}\n",
    "\n",
    "df1 = df._append(new_line, ignore_index=True)\n",
    "\n",
    "print(df1)\n",
    "\n",
    "df1.drop(4, inplace=True)\n",
    "print(df1)\n"
   ],
   "outputs": [
    {
     "name": "stdout",
     "output_type": "stream",
     "text": [
      "   ID     Name  Age\n",
      "0   1    Alice   10\n",
      "1   2      Bob   20\n",
      "2   3  Charlie   30\n",
      "3   4     Dave   30\n",
      "4   4     Dave   30\n",
      "   ID     Name  Age\n",
      "0   1    Alice   10\n",
      "1   2      Bob   20\n",
      "2   3  Charlie   30\n",
      "3   4     Dave   30\n"
     ]
    }
   ],
   "execution_count": 10
  },
  {
   "metadata": {},
   "cell_type": "markdown",
   "source": "Código 44 - Mostrando algumas linhas do DataFrame com head e tail"
  },
  {
   "metadata": {
    "ExecuteTime": {
     "end_time": "2025-08-26T11:29:42.297079Z",
     "start_time": "2025-08-26T11:29:42.292476Z"
    }
   },
   "cell_type": "code",
   "source": [
    "# Mostrar as duas primeiras linhas\n",
    "print(df.head(2))\n",
    "\n",
    "# Mostrar as duas últimas linhas\n",
    "print(df.tail(2))"
   ],
   "outputs": [
    {
     "name": "stdout",
     "output_type": "stream",
     "text": [
      "   ID   Name  Age\n",
      "0   1  Alice   10\n",
      "1   2    Bob   20\n",
      "   ID     Name  Age\n",
      "2   3  Charlie   30\n",
      "3   4     Dave   30\n"
     ]
    }
   ],
   "execution_count": 13
  },
  {
   "metadata": {},
   "cell_type": "markdown",
   "source": "Código 45 - Análises estatísticas rápidas do DataFrame"
  },
  {
   "metadata": {
    "ExecuteTime": {
     "end_time": "2025-08-26T11:34:19.177933Z",
     "start_time": "2025-08-26T11:34:19.173769Z"
    }
   },
   "cell_type": "code",
   "source": [
    "# Análises estatísticas\n",
    "# print(df.describe())\n",
    "# print(df['Age'].describe())\n",
    "\n",
    "# Quantidade de valores em uma coluna\n",
    "new_line = {\"ID\" : 5, 'Name' : 'Dave', 'Age' : 30}\n",
    "print(df)\n",
    "df._append(new_line, ignore_index=True)\n",
    "print(df1['Name'].value_counts())"
   ],
   "outputs": [
    {
     "name": "stdout",
     "output_type": "stream",
     "text": [
      "   ID     Name  Age\n",
      "0   1    Alice   10\n",
      "1   2      Bob   20\n",
      "2   3  Charlie   30\n",
      "3   4     Dave   30\n",
      "Name\n",
      "Alice      1\n",
      "Bob        1\n",
      "Charlie    1\n",
      "Dave       1\n",
      "Name: count, dtype: int64\n"
     ]
    }
   ],
   "execution_count": 27
  },
  {
   "metadata": {
    "ExecuteTime": {
     "end_time": "2025-08-26T11:31:22.510157Z",
     "start_time": "2025-08-26T11:31:22.508596Z"
    }
   },
   "cell_type": "markdown",
   "source": "Código 46 - Filtragem condicional com método query e expressão booleana"
  },
  {
   "metadata": {
    "ExecuteTime": {
     "end_time": "2025-08-26T11:36:50.460301Z",
     "start_time": "2025-08-26T11:36:50.456718Z"
    }
   },
   "cell_type": "code",
   "source": [
    "result = df.query('Age == 30 & Name == \"Dave\"')\n",
    "print(result)"
   ],
   "outputs": [
    {
     "name": "stdout",
     "output_type": "stream",
     "text": [
      "   ID  Name  Age\n",
      "3   4  Dave   30\n"
     ]
    }
   ],
   "execution_count": 37
  },
  {
   "metadata": {},
   "cell_type": "markdown",
   "source": "Código 47 - Utilizando set_index e reset_index"
  },
  {
   "metadata": {
    "ExecuteTime": {
     "end_time": "2025-08-26T11:38:20.469316Z",
     "start_time": "2025-08-26T11:38:20.466575Z"
    }
   },
   "cell_type": "code",
   "source": [
    "df.set_index('Age', inplace=True)\n",
    "print(df)"
   ],
   "outputs": [
    {
     "name": "stdout",
     "output_type": "stream",
     "text": [
      "     ID\n",
      "Age    \n",
      "10    1\n",
      "20    2\n",
      "30    3\n",
      "30    4\n"
     ]
    }
   ],
   "execution_count": 40
  },
  {
   "metadata": {
    "ExecuteTime": {
     "end_time": "2025-08-26T11:38:49.271452Z",
     "start_time": "2025-08-26T11:38:49.267399Z"
    }
   },
   "cell_type": "code",
   "source": [
    "df.reset_index(inplace=True)\n",
    "print(df)"
   ],
   "outputs": [
    {
     "name": "stdout",
     "output_type": "stream",
     "text": [
      "   index  Age  ID\n",
      "0      0   10   1\n",
      "1      1   20   2\n",
      "2      2   30   3\n",
      "3      3   30   4\n"
     ]
    }
   ],
   "execution_count": 42
  },
  {
   "metadata": {
    "ExecuteTime": {
     "end_time": "2025-08-26T11:54:05.767793Z",
     "start_time": "2025-08-26T11:54:05.764730Z"
    }
   },
   "cell_type": "code",
   "source": [
    "df1['Departament'] = ['RH', 'TI', 'Marketing', 'TI']\n",
    "print(df)\n"
   ],
   "outputs": [
    {
     "name": "stdout",
     "output_type": "stream",
     "text": [
      "   index  Age  ID\n",
      "0      0   10   1\n",
      "1      1   20   2\n",
      "2      2   30   3\n",
      "3      3   30   4\n"
     ]
    }
   ],
   "execution_count": 48
  },
  {
   "metadata": {},
   "cell_type": "markdown",
   "source": "Código 54 - Serialização com Pickle e Pandas"
  },
  {
   "metadata": {
    "ExecuteTime": {
     "end_time": "2025-08-26T12:02:17.227148Z",
     "start_time": "2025-08-26T12:02:17.216661Z"
    }
   },
   "cell_type": "code",
   "source": [
    "import pandas as pd\n",
    "\n",
    "df = pd.DataFrame({\n",
    "                'A' : range(1, 6),\n",
    "                'B' : ['A', 'B', 'C', 'D', 'E'],\n",
    "                'C' : pd.date_range('20230101', periods=5)\n",
    "})\n",
    "\n",
    "# print(df)\n",
    "\n",
    "# Serializando com Pickle - a extensão é pkl\n",
    "\n",
    "df.to_pickle('dataframe.pkl')\n",
    "\n",
    "# Desserializando o Dataframe\n",
    "\n",
    "loaded_df = pd.read_pickle('dataframe.pkl')\n",
    "\n",
    "print(loaded_df)"
   ],
   "outputs": [
    {
     "name": "stdout",
     "output_type": "stream",
     "text": [
      "   A  B          C\n",
      "0  1  A 2023-01-01\n",
      "1  2  B 2023-01-02\n",
      "2  3  C 2023-01-03\n",
      "3  4  D 2023-01-04\n",
      "4  5  E 2023-01-05\n"
     ]
    }
   ],
   "execution_count": 58
  },
  {
   "metadata": {
    "ExecuteTime": {
     "end_time": "2025-08-26T12:00:28.381466Z",
     "start_time": "2025-08-26T12:00:28.379946Z"
    }
   },
   "cell_type": "markdown",
   "source": "Código 55 - Geração de gráfico a partir de DataFrame"
  },
  {
   "metadata": {
    "ExecuteTime": {
     "end_time": "2025-08-26T12:10:42.542123Z",
     "start_time": "2025-08-26T12:10:42.190389Z"
    }
   },
   "cell_type": "code",
   "source": [
    "import pandas as pd\n",
    "import matplotlib.pyplot as plt\n",
    "import seaborn as sns\n",
    "\n",
    "# Carregando os dados do Titanic\n",
    "\n",
    "#  é necessário colocar o raw do Github,e não o csv em si.\n",
    "url = 'https://raw.githubusercontent.com/mwaskom/seaborn-data/refs/heads/master/titanic.csv'\n",
    "\n",
    "titanic = pd.read_csv(url)\n",
    "\n",
    "# Histograma da distribuição por idade\n",
    "\n",
    "titanic['age'].dropna().plot(kind='hist', bins=30, color='c', title='Distograma de idades das pessoas do Titanic')\n",
    "\n"
   ],
   "outputs": [
    {
     "data": {
      "text/plain": [
       "<Axes: title={'center': 'Distograma de idades das pessoas do Titanic'}, ylabel='Frequency'>"
      ]
     },
     "execution_count": 67,
     "metadata": {},
     "output_type": "execute_result"
    },
    {
     "data": {
      "text/plain": [
       "<Figure size 640x480 with 1 Axes>"
      ],
      "image/png": "[encoded data removed]"
     },
     "metadata": {},
     "output_type": "display_data"
    }
   ],
   "execution_count": 67
  },
  {
   "metadata": {},
   "cell_type": "markdown",
   "source": "Visualizações com Matplotlib"
  },
  {
   "metadata": {
    "ExecuteTime": {
     "end_time": "2025-08-26T12:25:43.453025Z",
     "start_time": "2025-08-26T12:25:42.816362Z"
    }
   },
   "cell_type": "code",
   "source": [
    "import pandas as pd\n",
    "import matplotlib.pyplot as plt\n",
    "import seaborn as sbn\n",
    "\n",
    "url = 'https://raw.githubusercontent.com/uiuc-cse/data-fa14/gh-pages/data/iris.csv'\n",
    "\n",
    "iris = pd.read_csv(url)\n",
    "\n",
    "print(iris.columns)\n",
    "\n",
    "plt.figure(figsize=(8,4))\n",
    "\n",
    "plt.plot(iris['sepal_length'],\n",
    "         label = 'Comprimento da Sépala')\n",
    "\n",
    "plt.plot(iris['sepal_width'],\n",
    "         label = \"Largura da Sépala\")\n",
    "\n",
    "plt.title(\"Medidas das sépalas da Íris\")\n",
    "\n",
    "plt.xlabel(\"Índice\")\n",
    "plt.ylabel(\"Comprimento em cm\")\n",
    "\n",
    "plt.legend()\n",
    "plt.show()"
   ],
   "outputs": [
    {
     "name": "stdout",
     "output_type": "stream",
     "text": [
      "Index(['sepal_length', 'sepal_width', 'petal_length', 'petal_width',\n",
      "       'species'],\n",
      "      dtype='object')\n"
     ]
    },
    {
     "data": {
      "text/plain": [
       "<Figure size 800x400 with 1 Axes>"
      ],
      "image/png": "[encoded data removed]"
     },
     "metadata": {},
     "output_type": "display_data"
    }
   ],
   "execution_count": 77
  },
  {
   "metadata": {},
   "cell_type": "code",
   "outputs": [],
   "execution_count": null,
   "source": ""
  }
 ]
}
