{
 "nbformat": 4,
 "nbformat_minor": 0,
 "metadata": {
  "colab": {
   "provenance": [],
   "collapsed_sections": [
    "fuQ8hqmFXWYw",
    "8sSvUn6SYhV0",
    "uKJFq9VmZSRT"
   ],
   "authorship_tag": "ABX9TyNpJabh/cvyqQzRbuaz3sIN",
   "include_colab_link": true
  },
  "kernelspec": {
   "name": "python3",
   "display_name": "Python 3 (ipykernel)",
   "language": "python"
  },
  "language_info": {
   "name": "python"
  }
 },
 "cells": [
  {
   "cell_type": "markdown",
   "metadata": {
    "id": "view-in-github",
    "colab_type": "text"
   },
   "source": [
    "<a href=\"https://colab.research.google.com/github/mariotlemes/pos-NLP/blob/main/python_para_processamento_de_dados.ipynb\" target=\"_parent\"><img src=\"https://colab.research.google.com/assets/colab-badge.svg\" alt=\"Open In Colab\"/></a>"
   ]
  },
  {
   "metadata": {},
   "cell_type": "markdown",
   "source": "Códigos do livro [Python para processamento de dados](https://github.com/mariotlemes/pos-NLP/blob/main/livros/1.2.2-python-para-processamento-de-dados.pdf)"
  },
  {
   "cell_type": "markdown",
   "source": [
    "Código 1 - Verificando a instalação do NumPy"
   ],
   "metadata": {
    "id": "fuQ8hqmFXWYw"
   }
  },
  {
   "metadata": {},
   "cell_type": "code",
   "source": [
    "import numpy as np\n",
    "\n",
    "print(\"A versão do NumPy é\", np.__version__)"
   ],
   "outputs": [],
   "execution_count": null
  },
  {
   "metadata": {},
   "cell_type": "markdown",
   "source": "Código 2 - Exemplos de utilização da biblioteca NumPy com arrays unidimensionais\n"
  },
  {
   "metadata": {},
   "cell_type": "code",
   "source": [
    "# array de uma dimensão\n",
    "a = np.array([1, 2, 3, 4, 5])\n",
    "print(\"Array a =\", a)\n",
    "\n",
    "# operação matemática simples\n",
    "b = a * 2\n",
    "print(\"Array b =\", b)"
   ],
   "outputs": [],
   "execution_count": null
  },
  {
   "cell_type": "markdown",
   "source": [
    "Código 3 - Exemplos de utilização da biblioteca NumPy com arrays multidimensionais e funções"
   ],
   "metadata": {
    "id": "uKJFq9VmZSRT"
   }
  },
  {
   "cell_type": "code",
   "source": [
    "c = np.array([[1,2], [3,4]])\n",
    "print(\"Matriz:\\n\", c)\n",
    "\n",
    "print(\"\\n\")\n",
    "\n",
    "# soma simples em cada número da matriz\n",
    "d = c + 3\n",
    "print(\"Matriz d:\\n\", d)\n",
    "\n",
    "print(\"\\n\")\n",
    "\n",
    "# calcular a media dos elementos do array a\n",
    "media  = np.mean(a)\n",
    "print(\"A média dos elementos do array a é:\", media)"
   ],
   "metadata": {
    "colab": {
     "base_uri": "https://localhost:8080/"
    },
    "id": "F1u-1yyqZWTN",
    "outputId": "304f3334-4f4a-4eb2-bc50-713dce4b2c5e"
   },
   "outputs": [],
   "execution_count": null
  },
  {
   "cell_type": "markdown",
   "source": [
    "Código 4 - Exemplo de criação de um array a partir de uma lista"
   ],
   "metadata": {
    "id": "-RJkJg2TaWwL"
   }
  },
  {
   "cell_type": "code",
   "source": [
    "import numpy as np\n",
    "\n",
    "a = np.array([1, 2, 3, 4, 5])\n",
    "print(\"Array a:\", a)"
   ],
   "metadata": {
    "colab": {
     "base_uri": "https://localhost:8080/"
    },
    "id": "3IpBhnvnaZzx",
    "outputId": "0ab553b6-ab8e-4156-801e-372e154ba646"
   },
   "outputs": [],
   "execution_count": null
  },
  {
   "cell_type": "markdown",
   "source": [
    "Código 5 - Criando array de zeros com np.zeros"
   ],
   "metadata": {
    "id": "Jr6a2BTiazpA"
   }
  },
  {
   "cell_type": "code",
   "source": [
    "zeros_array = np.zeros((3,3))\n",
    "print(\"Matriz de zeros 3x3:\\n\", zeros_array)"
   ],
   "metadata": {
    "colab": {
     "base_uri": "https://localhost:8080/"
    },
    "id": "R1gdo_qAa3Xn",
    "outputId": "740dd5f6-4d15-4cc0-e7a7-b4abce0e929e"
   },
   "outputs": [],
   "execution_count": null
  },
  {
   "metadata": {},
   "cell_type": "markdown",
   "source": ""
  },
  {
   "cell_type": "markdown",
   "source": [
    "Código 6 - Exemplo de utilização da função np.arange\n",
    "\n",
    "Função np.arrange(start, stop, step): usada para criar arrays com valores sequenciais"
   ],
   "metadata": {
    "id": "-dnPM5ysbRuZ"
   }
  },
  {
   "cell_type": "code",
   "source": [
    "import numpy as np\n",
    "\n",
    "range_array = np.arange(0, 10, 2)\n",
    "print(\"O array é:\", range_array)"
   ],
   "metadata": {
    "colab": {
     "base_uri": "https://localhost:8080/"
    },
    "id": "bsdVx_-3bep1",
    "outputId": "0199c885-0433-4b3e-e162-a8628cd2dca3"
   },
   "outputs": [],
   "execution_count": null
  },
  {
   "cell_type": "markdown",
   "source": [
    "Código 7 - Exemplo de utilização da função np.linspace\n",
    "\n",
    "Função np.linspace(start, stop, num): cria arrays com valores espaçados uniformemente em um intervalo"
   ],
   "metadata": {
    "id": "mHg4VJSZb4SC"
   }
  },
  {
   "cell_type": "code",
   "source": [
    "import numpy as np\n",
    "\n",
    "linspace_array = np.linspace(0, 1, 5)\n",
    "print(\"O array é:\", linspace_array)\n"
   ],
   "metadata": {
    "colab": {
     "base_uri": "https://localhost:8080/"
    },
    "id": "Ec9rCXmfcFyH",
    "outputId": "dcd34a9a-3c2e-4f95-dad9-489e6a6b58dc"
   },
   "outputs": [],
   "execution_count": null
  },
  {
   "cell_type": "markdown",
   "source": [
    "Código 8 - Atributos shape e ndim de um array NumPy"
   ],
   "metadata": {
    "id": "t2m0nli2csn_"
   }
  },
  {
   "cell_type": "code",
   "source": [
    "import numpy as np\n",
    "\n",
    "linspace_array = np.linspace(0, 1, 5)\n",
    "print(\"Array:\", linspace_array)\n",
    "print(\"Forma do array:\", linspace_array.shape)\n",
    "print(\"Número de dimensões:\", linspace_array.ndim)\n"
   ],
   "metadata": {
    "colab": {
     "base_uri": "https://localhost:8080/"
    },
    "id": "kzlfkmXdc049",
    "outputId": "a2276006-ec64-44cd-9dfc-3a85531c3d33"
   },
   "outputs": [],
   "execution_count": null
  },
  {
   "cell_type": "markdown",
   "source": [
    "Código 9 - Exemplo de criação de array multidimensional (matriz 2x3) a partir de listas"
   ],
   "metadata": {
    "id": "kY-xcO-Pdi3J"
   }
  },
  {
   "cell_type": "code",
   "source": [
    "import numpy as np\n",
    "\n",
    "matriz = np.array([[1, 2, 3], [4, 5, 6]])\n",
    "print(\"Matriz 2x3:\\n\", matriz)"
   ],
   "metadata": {
    "colab": {
     "base_uri": "https://localhost:8080/"
    },
    "id": "2yNkpNbFdl59",
    "outputId": "bcf1ae40-ab0a-4e7b-a0b9-105ba5781f83"
   },
   "outputs": [],
   "execution_count": null
  },
  {
   "cell_type": "markdown",
   "source": [
    "Código 10 - Exemplo de utilização do atributo dtype de um array do NumPy"
   ],
   "metadata": {
    "id": "6qbrwlm6d7OJ"
   }
  },
  {
   "cell_type": "code",
   "source": [
    "import numpy as np\n",
    "\n",
    "matriz = np.array([[1, 2, 3], [4, 5, 6]])\n",
    "print(\"O tipo de dados da matriz é:\", matriz.dtype)"
   ],
   "metadata": {
    "colab": {
     "base_uri": "https://localhost:8080/"
    },
    "id": "LVKbc6Afd-zl",
    "outputId": "2663d594-8ec8-4347-a0d7-e17acf57aae4"
   },
   "outputs": [],
   "execution_count": null
  },
  {
   "cell_type": "markdown",
   "source": [
    "Código 11 - Alterando o valor da posição 0 de um array previamente definido"
   ],
   "metadata": {
    "id": "GwqSayLIeQZB"
   }
  },
  {
   "metadata": {},
   "cell_type": "code",
   "source": [
    "# import numpy as np\n",
    "\n",
    "array_a = ([1, 2, 3, 4, 5])\n",
    "array_a[0] = 10\n",
    "print(\"O novo array a é:\", array_a)"
   ],
   "outputs": [],
   "execution_count": null
  },
  {
   "cell_type": "markdown",
   "source": [
    "Código 12 - Exemplos com listas (mutável), tuplas (imutável) e sets (não ordenado e sem duplicatas)"
   ],
   "metadata": {
    "id": "jm2qW24Aeood"
   }
  },
  {
   "metadata": {},
   "cell_type": "code",
   "source": [
    "# import numpy as np\n",
    "\n",
    "lista = [1, \"dois\", 3.0]\n",
    "\n",
    "print(\"A lista mista é:\", lista)\n",
    "\n",
    "# adicionando um novo membro\n",
    "lista.append(4)\n",
    "print(\"A lista com append é:\", lista)\n",
    "\n",
    "tupla = (1, 2, 3)\n",
    "print(\"O valor da tupla é:\", tupla)\n",
    "\n",
    "# não é possível\n",
    "# tupla[0] = 2\n",
    "\n",
    "conjunto  = {1, 2, 3, 3}\n",
    "print(\"O valor do conjunto (não mostra valores duplicados) é:\", conjunto)"
   ],
   "outputs": [],
   "execution_count": null
  },
  {
   "cell_type": "markdown",
   "source": [
    "Código 13 - Comparando o tempo de execução entre listas e arrays do NumPy"
   ],
   "metadata": {
    "id": "3ulRKNyLgvhH"
   }
  },
  {
   "cell_type": "code",
   "source": [
    "import numpy as np\n",
    "import time\n",
    "\n",
    "lista = list(range(1000000))\n",
    "inicio = time.time()\n",
    "lista = [valor + 1 for valor in lista]\n",
    "fim = time.time()\n",
    "print(\"Tempo de processamento com lista é:\", fim - inicio)\n",
    "\n",
    "array = np.arange(1000000)\n",
    "inicio2 = time.time()\n",
    "array += 1\n",
    "fim2 = time.time()\n",
    "print(\"Tempo de processamento com array é:\", fim2 - inicio2)"
   ],
   "metadata": {
    "colab": {
     "base_uri": "https://localhost:8080/"
    },
    "id": "ZpBOWC6wgyy1",
    "outputId": "51fe1737-b233-4641-f26a-8915f5007dab"
   },
   "outputs": [],
   "execution_count": null
  },
  {
   "cell_type": "markdown",
   "source": [
    "Código 14 - Exemplo de operações aritméticas com arrays"
   ],
   "metadata": {
    "id": "OWb8EV2AiMMM"
   }
  },
  {
   "cell_type": "code",
   "source": [
    "import numpy as np\n",
    "\n",
    "a = np.array([1, 2, 3])\n",
    "b = np.array([4, 5 , 6])\n",
    "\n",
    "print(\"O valor do array a + array b é: \", a + b)\n",
    "print(\"O valor do array a - b é: \", a - b)\n",
    "print(\"O valor de multiplicação do array a por b é:\",  a * b)\n",
    "print(\"A divisão do array a por b é:\", a / b)"
   ],
   "metadata": {
    "colab": {
     "base_uri": "https://localhost:8080/"
    },
    "id": "YHiVpxIWg8w7",
    "outputId": "4088c0ae-ffb8-416e-c1cd-d6a9fb19000d"
   },
   "outputs": [],
   "execution_count": null
  },
  {
   "metadata": {},
   "cell_type": "markdown",
   "source": "Código 15 - Exemplo de broadcasting (operação com arrays de diferentes tamanhos) entre arrays"
  },
  {
   "metadata": {},
   "cell_type": "code",
   "source": [
    "import numpy as np\n",
    "\n",
    "h = np.array([1, 2, 3])\n",
    "i = np.array([[0], [1], [2]])\n",
    "# print(h)\n",
    "# print(i)\n",
    "\n",
    "j = h + 1\n",
    "\n",
    "print(j)\n",
    "\n"
   ],
   "outputs": [],
   "execution_count": null
  },
  {
   "metadata": {},
   "cell_type": "markdown",
   "source": "Código 16 - Exemplos de indexação e slicing"
  },
  {
   "metadata": {},
   "cell_type": "code",
   "source": [
    "a = np.array([1, 2, 3])\n",
    "\n",
    "k = a[1]\n",
    "print(\"O elemento do índice 1 é:\", k)\n",
    "\n",
    "l = a[0:2]\n",
    "print(\"Os dois primeiros elementos do array a é:\", l)"
   ],
   "outputs": [],
   "execution_count": null
  },
  {
   "metadata": {},
   "cell_type": "markdown",
   "source": "Código 17 - Exemplo de zeroing com slicing"
  },
  {
   "metadata": {},
   "cell_type": "code",
   "source": [
    "m = np.array([1, 2, 3, 4, 5])\n",
    "print(\"O array m é:\", m)\n",
    "\n",
    "# Zerando do elemento 1 ao 3 (um entra e 4 é o limite superior). Então o slice vai funcionar da posição 1 a 3.\n",
    "m[1:4] = 0\n",
    "\n",
    "print(\"Saída depois de zerar é:\", m)"
   ],
   "outputs": [],
   "execution_count": null
  },
  {
   "metadata": {},
   "cell_type": "markdown",
   "source": "Código 18 - Slicing com step"
  },
  {
   "metadata": {},
   "cell_type": "code",
   "source": [
    "import numpy as np\n",
    "\n",
    "a = np.array([0, 1, 2, 3, 4, 5, 6, 7, 8, 9])\n",
    "print(\"O array a é:\", a)\n",
    "\n",
    "step_slice = a[1 : 8 : 2]\n",
    "print(\"A lógica array[inicio:fim:passo] pode ser usada para partição de um array. Olha o resultado:\", step_slice)\n",
    "\n",
    "slice_revertido = step_slice[::-1]\n",
    "\n",
    "print(\"Para inverter um slice, basta usar a sintaxe array[::-1]. Veja o array step_slice invertido:\", slice_revertido)\n"
   ],
   "outputs": [],
   "execution_count": null
  },
  {
   "metadata": {},
   "cell_type": "markdown",
   "source": "Código 19 - Exemplo de indexação com lista de índices"
  },
  {
   "metadata": {},
   "cell_type": "code",
   "source": [
    "import numpy as np\n",
    "\n",
    "n = np.array([10, 20, 30, 40, 50])\n",
    "indices = [1, 3, 4]\n",
    "\n",
    "o = n[indices]\n",
    "\n",
    "print(f\"Os valores do array {n} acessíveis pelos índices {indices} é:\", o)"
   ],
   "outputs": [],
   "execution_count": null
  },
  {
   "metadata": {},
   "cell_type": "markdown",
   "source": "Código 20 - Exemplo de indexação booleana"
  },
  {
   "metadata": {},
   "cell_type": "code",
   "source": [
    "import numpy as np\n",
    "\n",
    "p = np.array([1, 2, 3, 4, 5])\n",
    "mask = p > 3\n",
    "maiores_que_3 = p[mask]\n",
    "\n",
    "print(f\"Os valores de {p} que são maiores que 3 são:\", maiores_que_3)"
   ],
   "outputs": [],
   "execution_count": null
  },
  {
   "metadata": {},
   "cell_type": "markdown",
   "source": "Código 21 - Exemplo usando np.where"
  },
  {
   "metadata": {},
   "cell_type": "code",
   "source": [
    "import numpy as np\n",
    "\n",
    "r = np.array([1, 2, 3, 4, 5])\n",
    "s = np.where(r < 3, 0, r)\n",
    "\n",
    "print(f\"A substituição no array {r} foi realizada nas posições onde o r era menor que 3. \\nVeja o resultado: {s}\")"
   ],
   "outputs": [],
   "execution_count": null
  },
  {
   "metadata": {},
   "cell_type": "markdown",
   "source": "Código 22 - Exemplo de operações de álgebra linear (produto escalar, determinante e autovalores)"
  },
  {
   "metadata": {},
   "cell_type": "code",
   "source": [
    "import numpy as np\n",
    "\n",
    "A = np.array([[1,2], [3, 4]])\n",
    "print(\"Matriz A:\\n\", A)\n",
    "\n",
    "B = np.array([[2,0], [1,2]])\n",
    "print(\"Matriz B:\\n\", B)\n",
    "\n",
    "produto =  np.dot(A, B)\n",
    "print(f\"O produto escalar da Matriz A pela Matriz B é:\\n\", produto)\n",
    "\n",
    "determinante = np.linalg.det(A)\n",
    "print(\"Determinante de A:\", determinante)\n",
    "\n",
    "auto_valores = np.linalg.eigvals(A)\n",
    "print(\"Autovalores de A:\", auto_valores)"
   ],
   "outputs": [],
   "execution_count": null
  },
  {
   "metadata": {},
   "cell_type": "markdown",
   "source": "Código 23 - Exemplo de operações estatísticas"
  },
  {
   "metadata": {},
   "cell_type": "code",
   "source": [
    "import numpy as np\n",
    "\n",
    "dados = np.array([1, 2, 3, 4, 5])\n",
    "\n",
    "media = np.mean(dados)\n",
    "mediana = np.median(dados)\n",
    "desvio_padrao = np.std(dados)\n",
    "\n",
    "print(f\"A média dos valores de {dados} é:\", media)\n",
    "print(f\"A mediana dos valores de {dados} é:\", mediana)\n",
    "print(f\"O desvio-padrão dos valores de {dados} é:\", desvio_padrao)"
   ],
   "outputs": [],
   "execution_count": null
  },
  {
   "metadata": {},
   "cell_type": "markdown",
   "source": "Código 24 - Visualização de dados com NumPy e Matplotlib"
  },
  {
   "metadata": {},
   "cell_type": "code",
   "source": [
    "import numpy as np\n",
    "import matplotlib.pyplot as plt\n",
    "\n",
    "# Dados\n",
    "x = np.linspace(0, 10, 100)\n",
    "y  = np.sin(x)\n",
    "\n",
    "# Plotando\n",
    "plt.figure(figsize=(8,4))\n",
    "plt.plot(x, y, label='sin(x')\n",
    "plt.title(\"Gráfico de linha simples\")\n",
    "plt.xlabel('Valor de x')\n",
    "plt.ylabel('sin(x)')\n",
    "plt.legend()\n",
    "plt.grid()\n",
    "plt.show()\n"
   ],
   "outputs": [],
   "execution_count": null
  },
  {
   "metadata": {
    "ExecuteTime": {
     "end_time": "2025-08-22T17:08:20.555713Z",
     "start_time": "2025-08-22T17:08:20.553402Z"
    }
   },
   "cell_type": "markdown",
   "source": "Código 25 - Exemplo de histograma com NumPy e Matplotlib"
  },
  {
   "metadata": {},
   "cell_type": "code",
   "source": [
    "import numpy as np\n",
    "import matplotlib.pyplot as plt\n",
    "\n",
    "# Dados aleatórios\n",
    "data = np.random.normal(size=1000)\n",
    "# Histograma\n",
    "plt.figure(figsize=(8, 4))\n",
    "plt.hist(data, bins=30, alpha=0.75, color='blue', edgecolor='black')\n",
    "plt.title('Histograma de Dados Aleatórios')\n",
    "plt.xlabel('Valores')\n",
    "plt.ylabel('Frequência')\n",
    "plt.grid(True)\n",
    "plt.show()"
   ],
   "outputs": [],
   "execution_count": null
  },
  {
   "metadata": {},
   "cell_type": "markdown",
   "source": "Código 26 - Exemplo de criação de uma Series do Pandas"
  },
  {
   "metadata": {},
   "cell_type": "code",
   "source": [
    "import pandas as pd\n",
    "import numpy as np\n",
    "\n",
    "print(f\"A versão do pandas é {pd.__version__}\")\n",
    "\n",
    "s = pd.Series([1, 3, 5, np.nan, 6, 8])\n",
    "print(s)"
   ],
   "outputs": [],
   "execution_count": null
  },
  {
   "metadata": {},
   "cell_type": "markdown",
   "source": "Código 27 - Exemplo de criação de um DataFrame do Pandas"
  },
  {
   "metadata": {},
   "cell_type": "code",
   "source": [
    "import pandas as pd\n",
    "\n",
    "data = {'Nome': ['João', 'Ana', 'Pedro', 'Maria'],\n",
    "        'Idade': [28, 22, 35, 42],\n",
    "        'Cidade': ['Goiânia', 'São Paulo', 'Salvador', 'Curitiba']}\n",
    "\n",
    "df = pd.DataFrame(data)\n",
    "\n",
    "print(df)"
   ],
   "outputs": [],
   "execution_count": null
  },
  {
   "metadata": {},
   "cell_type": "markdown",
   "source": "Código 30 - Aplicando uma função a uma coluna usando o método apply"
  },
  {
   "metadata": {},
   "cell_type": "code",
   "source": [
    "df['Idade_dobrada'] = df['Idade'].apply(lambda idade: idade * 2)\n",
    "print(df)"
   ],
   "outputs": [],
   "execution_count": null
  },
  {
   "metadata": {},
   "cell_type": "markdown",
   "source": "Código 31 - Agrupando dados e calculando a média da idade por cidade"
  },
  {
   "metadata": {},
   "cell_type": "code",
   "source": [
    "media_idade_por_cidade = df.groupby('Cidade')['Idade'].mean()\n",
    "\n",
    "print(media_idade_por_cidade)"
   ],
   "outputs": [],
   "execution_count": null
  },
  {
   "metadata": {},
   "cell_type": "markdown",
   "source": "Código 32 - Criação de series com Pandas"
  },
  {
   "metadata": {},
   "cell_type": "code",
   "source": [
    "import pandas as pd\n",
    "\n",
    "s1 = pd.Series([1, 3, 5, np.nan, 6, 8])\n",
    "print(s1)\n",
    "\n",
    "s2 = pd.Series({'a' : 1,'b': 2, 'c': 3})\n",
    "print(s2)\n",
    "# print(f\"A series S2 criada a partir do dicionário é:\\n {s2}\")"
   ],
   "outputs": [],
   "execution_count": null
  },
  {
   "metadata": {},
   "cell_type": "markdown",
   "source": "Código 33 - Diferentes formas de indexação de séries"
  },
  {
   "metadata": {},
   "cell_type": "code",
   "source": [
    "import pandas as pd\n",
    "\n",
    "s = pd.Series([1, 3, 5, None, 6, 8], index=['a', 'b', 'c', 'd', 'e', 'f'])\n",
    "\n",
    "print(f'Exemplo de criação de uma série com index associado:\\n{s}')\n",
    "\n",
    "# Indexação direta\n",
    "print(s['a'])\n",
    "\n",
    "# Indexação com loc\n",
    "print(s.loc['a'])\n",
    "\n",
    "# Slicing com loc\n",
    "print(s.loc['a':'c'])\n",
    "\n",
    "# Slicing com iloc\n",
    "print(s.iloc[2])\n",
    "\n",
    "print(s.iloc[1:2])"
   ],
   "outputs": [],
   "execution_count": null
  },
  {
   "metadata": {},
   "cell_type": "markdown",
   "source": "Código 35 - Atributos úteis de séries em Pandas"
  },
  {
   "metadata": {},
   "cell_type": "code",
   "source": [
    "print(f'Acessando índices: {s.index}')\n",
    "print(f'Acessando valores: {s.values}')\n",
    "print(f'Acessando tipo: {s.dtype}')\n"
   ],
   "outputs": [],
   "execution_count": null
  },
  {
   "metadata": {},
   "cell_type": "markdown",
   "source": "Código 36 - Operações aritméticas em séries"
  },
  {
   "metadata": {},
   "cell_type": "code",
   "source": "print(f'Somando 10 na serie: \\n {s}')",
   "outputs": [],
   "execution_count": null
  },
  {
   "metadata": {},
   "cell_type": "markdown",
   "source": "Código 37 - Filtragem com condição booleana e where"
  },
  {
   "metadata": {},
   "cell_type": "code",
   "source": [
    "print(s[s > s.mean()])\n",
    "\n",
    "print('\\n')\n",
    "\n",
    "#  Filtragem e substituição\n",
    "print(s.where(s > 3, \"Limite não atingido\"))"
   ],
   "outputs": [],
   "execution_count": null
  },
  {
   "metadata": {},
   "cell_type": "markdown",
   "source": "Código 38 - Métodos de transformação de uma série"
  },
  {
   "metadata": {},
   "cell_type": "code",
   "source": [
    "# Ordenando os valores\n",
    "print(f'Valores ordenados:\\n{s.sort_values()}\\n')\n",
    "\n",
    "# Remover duplicados\n",
    "print(f'Remover valores duplicados:\\n{s.drop_duplicates()}\\n')\n",
    "\n",
    "# Verificar (true ou false) se existem valores nulos\n",
    "print(f'Detectar valores nulos:\\n{s.isnull()}\\n')"
   ],
   "outputs": [],
   "execution_count": null
  },
  {
   "metadata": {},
   "cell_type": "markdown",
   "source": "Código 39 - Utilizando reindex para refazer os índices"
  },
  {
   "metadata": {},
   "cell_type": "code",
   "source": "print(s.reindex(['g', 'f', 'a', 'c', 'b', 'h']))",
   "outputs": [],
   "execution_count": null
  },
  {
   "metadata": {},
   "cell_type": "markdown",
   "source": "Código 40 - Criando DataFrame a partir de um dicionário de listas"
  },
  {
   "metadata": {},
   "cell_type": "code",
   "source": [
    "import pandas as pd\n",
    "\n",
    "data = {'ID' : [1, 2, 3],\n",
    "        'Name': ['Alice', 'Bob', 'Charlie'],\n",
    "        'Age' : [10, 20, 30]}\n",
    "\n",
    "df = pd.DataFrame(data)\n",
    "print(df)\n"
   ],
   "outputs": [],
   "execution_count": null
  },
  {
   "metadata": {},
   "cell_type": "markdown",
   "source": "Código 41 - Acessando colunas e elementos do DataFrame"
  },
  {
   "metadata": {},
   "cell_type": "code",
   "source": [
    "# Acessando valores específicos\n",
    "\n",
    "print(df['Name'])\n",
    "\n",
    "print('\\n')\n",
    "\n",
    "# Acessando um elemento específico\n",
    "print(df.loc[0, 'Name'])\n",
    "print(df['Name'][0])"
   ],
   "outputs": [],
   "execution_count": null
  },
  {
   "metadata": {},
   "cell_type": "markdown",
   "source": "Código 42 - Adição e exclusão de uma coluna a um DataFrame"
  },
  {
   "metadata": {},
   "cell_type": "code",
   "source": [
    "df['Departament'] = ['RH', 'Tech', 'Marketing']\n",
    "\n",
    "df.drop('Departament', axis=1, inplace=True)\n",
    "\n",
    "print(df)"
   ],
   "outputs": [],
   "execution_count": null
  },
  {
   "metadata": {},
   "cell_type": "markdown",
   "source": "Código 43 - Utilização de append e drop para manipulação de linhas"
  },
  {
   "metadata": {},
   "cell_type": "code",
   "source": [
    "# Adicionando uma nova linha\n",
    "\n",
    "new_line = {'ID': 4, 'Name': 'Dave', 'Age': 30}\n",
    "\n",
    "df1 = df._append(new_line, ignore_index=True)\n",
    "\n",
    "print(df1)\n",
    "\n",
    "df1.drop(4, inplace=True)\n",
    "print(df1)\n"
   ],
   "outputs": [],
   "execution_count": null
  },
  {
   "metadata": {},
   "cell_type": "markdown",
   "source": "Código 44 - Mostrando algumas linhas do DataFrame com head e tail"
  },
  {
   "metadata": {},
   "cell_type": "code",
   "source": [
    "# Mostrar as duas primeiras linhas\n",
    "print(df.head(2))\n",
    "\n",
    "# Mostrar as duas últimas linhas\n",
    "print(df.tail(2))"
   ],
   "outputs": [],
   "execution_count": null
  },
  {
   "metadata": {},
   "cell_type": "markdown",
   "source": "Código 45 - Análises estatísticas rápidas do DataFrame"
  },
  {
   "metadata": {},
   "cell_type": "code",
   "source": [
    "# Análises estatísticas\n",
    "# print(df.describe())\n",
    "# print(df['Age'].describe())\n",
    "\n",
    "# Quantidade de valores em uma coluna\n",
    "new_line = {\"ID\" : 5, 'Name' : 'Dave', 'Age' : 30}\n",
    "print(df)\n",
    "df._append(new_line, ignore_index=True)\n",
    "print(df1['Name'].value_counts())"
   ],
   "outputs": [],
   "execution_count": null
  },
  {
   "metadata": {
    "ExecuteTime": {
     "end_time": "2025-08-26T11:31:22.510157Z",
     "start_time": "2025-08-26T11:31:22.508596Z"
    }
   },
   "cell_type": "markdown",
   "source": "Código 46 - Filtragem condicional com método query e expressão booleana"
  },
  {
   "metadata": {},
   "cell_type": "code",
   "source": [
    "result = df.query('Age == 30 & Name == \"Dave\"')\n",
    "print(result)"
   ],
   "outputs": [],
   "execution_count": null
  },
  {
   "metadata": {},
   "cell_type": "markdown",
   "source": "Código 47 - Utilizando set_index e reset_index"
  },
  {
   "metadata": {},
   "cell_type": "code",
   "source": [
    "df.set_index('Age', inplace=True)\n",
    "print(df)"
   ],
   "outputs": [],
   "execution_count": null
  },
  {
   "metadata": {},
   "cell_type": "code",
   "source": [
    "df.reset_index(inplace=True)\n",
    "print(df)"
   ],
   "outputs": [],
   "execution_count": null
  },
  {
   "metadata": {},
   "cell_type": "code",
   "source": [
    "df1['Departament'] = ['RH', 'TI', 'Marketing', 'TI']\n",
    "print(df)\n"
   ],
   "outputs": [],
   "execution_count": null
  },
  {
   "metadata": {},
   "cell_type": "markdown",
   "source": "Código 54 - Serialização com Pickle e Pandas"
  },
  {
   "metadata": {},
   "cell_type": "code",
   "source": [
    "import pandas as pd\n",
    "\n",
    "df = pd.DataFrame({\n",
    "                'A' : range(1, 6),\n",
    "                'B' : ['A', 'B', 'C', 'D', 'E'],\n",
    "                'C' : pd.date_range('20230101', periods=5)\n",
    "})\n",
    "\n",
    "# print(df)\n",
    "\n",
    "# Serializando com Pickle - a extensão é pkl\n",
    "\n",
    "df.to_pickle('dataframe.pkl')\n",
    "\n",
    "# Desserializando o Dataframe\n",
    "\n",
    "loaded_df = pd.read_pickle('dataframe.pkl')\n",
    "\n",
    "print(loaded_df)"
   ],
   "outputs": [],
   "execution_count": null
  },
  {
   "metadata": {
    "ExecuteTime": {
     "end_time": "2025-08-26T12:00:28.381466Z",
     "start_time": "2025-08-26T12:00:28.379946Z"
    }
   },
   "cell_type": "markdown",
   "source": "Código 55 - Geração de gráfico a partir de DataFrame"
  },
  {
   "metadata": {},
   "cell_type": "code",
   "source": [
    "import pandas as pd\n",
    "import matplotlib.pyplot as plt\n",
    "import seaborn as sns\n",
    "\n",
    "# Carregando os dados do Titanic\n",
    "\n",
    "#  é necessário colocar o raw do Github,e não o csv em si.\n",
    "url = 'https://raw.githubusercontent.com/mwaskom/seaborn-data/refs/heads/master/titanic.csv'\n",
    "\n",
    "titanic = pd.read_csv(url)\n",
    "\n",
    "# Histograma da distribuição por idade\n",
    "\n",
    "titanic['age'].dropna().plot(kind='hist', bins=30, color='c', title='Distograma de idades das pessoas do Titanic')\n",
    "\n"
   ],
   "outputs": [],
   "execution_count": null
  },
  {
   "metadata": {},
   "cell_type": "markdown",
   "source": "Visualizações com Matplotlib"
  },
  {
   "metadata": {},
   "cell_type": "code",
   "source": [
    "import pandas as pd\n",
    "import matplotlib.pyplot as plt\n",
    "import seaborn as sbn\n",
    "\n",
    "url = 'https://raw.githubusercontent.com/uiuc-cse/data-fa14/gh-pages/data/iris.csv'\n",
    "\n",
    "iris = pd.read_csv(url)\n",
    "\n",
    "print(iris.columns)\n",
    "\n",
    "plt.figure(figsize=(8,4))\n",
    "\n",
    "plt.plot(iris['sepal_length'],\n",
    "         label = 'Comprimento da Sépala')\n",
    "\n",
    "plt.plot(iris['sepal_width'],\n",
    "         label = \"Largura da Sépala\")\n",
    "\n",
    "plt.title(\"Medidas das sépalas da Íris\")\n",
    "\n",
    "plt.xlabel(\"Índice\")\n",
    "plt.ylabel(\"Comprimento em cm\")\n",
    "\n",
    "plt.legend()\n",
    "plt.show()"
   ],
   "outputs": [],
   "execution_count": null
  }
 ]
}
